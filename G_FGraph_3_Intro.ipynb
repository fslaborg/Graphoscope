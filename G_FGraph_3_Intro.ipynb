
        {
            "cells": [
          {
           "cell_type": "markdown",
           "metadata": {},
           
           "source": []
          }
,
          {
           "cell_type": "code",
           "metadata": {},
            "execution_count": null, "outputs": [],
           "source": ["#r \"nuget: Graphoscope, 0.2.0\"\n"]
          }
,
          {
           "cell_type": "markdown",
           "metadata": {},
           
           "source": ["# What is FGraph\n",
"\n",
"The FGraph is an adaptation of a functional graph.\n",
"In programming, a functional graph typically refers to a data structure or representation used to model and analyze the flow of data or the dependencies between functions in a functional programming paradigm.\n",
"Functional programming emphasizes the use of pure functions and avoids mutable state, making functional graphs particularly useful for understanding and optimizing the execution of functional programs.\n",
"It is compromised of a Dictionary, containing the nodeIndex as Key and the so called FContext as Value. The structure is visualised here:\n",
"\n",
"[![](https://mermaid.ink/img/pako:eNpNj80KwjAQhF9F9qSgL9CDoI2tIoigJxMPS7Jaf5qUJEWL-O5utaJ7mv1mmGUfoJ0hSOBwdTddoI-9rVC2xzORWe6xKvaj0XjaX3HsQs2g85il_Sx1NtI9djBlKOTakyFNITgf9j9jJtsGgRH_YCY3tdaB_rKCcS4n5oyarG46mrX0I3OW83fZkr52yxZyZo6fAzCEknyJJ8OPPdqIglhQSQoSlgb9RYGyT85hHd2msRqS6GsaQl0ZjCROePRYQnLAa2Baod05992fLxMxYKE?type=png)](https://mermaid.live/edit#pako:eNpNj80KwjAQhF9F9qSgL9CDoI2tIoigJxMPS7Jaf5qUJEWL-O5utaJ7mv1mmGUfoJ0hSOBwdTddoI-9rVC2xzORWe6xKvaj0XjaX3HsQs2g85il_Sx1NtI9djBlKOTakyFNITgf9j9jJtsGgRH_YCY3tdaB_rKCcS4n5oyarG46mrX0I3OW83fZkr52yxZyZo6fAzCEknyJJ8OPPdqIglhQSQoSlgb9RYGyT85hHd2msRqS6GsaQl0ZjCROePRYQnLAa2Baod05992fLxMxYKE)\n",
"\n",
"# Quickstart\n",
"\n",
"## Creating an empty graph and filling it with single elements\n",
"\n",
"Begin by creating an empty graph,meaning a data structure with no nodes or edges.\n",
"Then populate the graph with single elements, individual nodes are added one by one, and edges can be introduced to establish connections between them.\n",
"\n"]
          }
,
          {
           "cell_type": "code",
           "metadata": {},
            "execution_count": 3, "outputs": [
          {
           "data": {
            "text/plain": ["\"You have created a graph with 2 nodes and 1 edges\""]
        },
           "execution_count": 3,
           "metadata": {},
           "output_type": "execute_result"
          }],
           "source": ["open Graphoscope\n",
"open FGraph\n",
"\n",
"let graphToFill =\n",
"\n",
"    FGraph.empty\n",
"    |\u003e FGraph.addNode 1 \"1\"\n",
"    |\u003e FGraph.addNode 2 \"2\"\n",
"    |\u003e FGraph.addEdge 1 2 1.\n"]
          }
,
          {
           "cell_type": "markdown",
           "metadata": {},
           
           "source": ["# Working with Graphs\n",
"\n",
"## Creating a Graph using FGraph\n",
"\n",
"### Creating an empty graph and add collections of elements\n",
"\n",
"Another way of creating a graph is by filling it with collections of nodes and edges as seen below:\n",
"\n"]
          }
,
          {
           "cell_type": "code",
           "metadata": {},
            "execution_count": 6, "outputs": [
          {
           "data": {
            "text/plain": ["\"You have created a graph with 100 nodes and 45 edges\""]
        },
           "execution_count": 6,
           "metadata": {},
           "output_type": "execute_result"
          }],
           "source": ["let graphToFill\u0027 =\n",
"    \n",
"    let nodes = List.init 100 (fun x -\u003e x,$\"{x}\")\n",
"\n",
"    let edges = List.init 45 (fun x -\u003e x,x*2,1.)\n",
"\n",
"    FGraph.empty\n",
"    |\u003e FGraph.addNodes nodes\n",
"    |\u003e FGraph.addEdges edges\n"]
          }
,
          {
           "cell_type": "markdown",
           "metadata": {},
           
           "source": ["### Removing Nodes and Edges\n",
"\n",
"To remove Nodes or Edges you can just use the remove functions provided:\n",
"\n"]
          }
,
          {
           "cell_type": "code",
           "metadata": {},
            "execution_count": 9, "outputs": [
          {
           "data": {
            "text/plain": ["\"You have reduced the graph to 99 nodes and 43 edges\""]
        },
           "execution_count": 9,
           "metadata": {},
           "output_type": "execute_result"
          }],
           "source": ["let graphWithRemovedElements =\n",
"    graphToFill\u0027\n",
"    |\u003e FGraph.removeEdge 1 2\n",
"    |\u003e FGraph.removeNode 0\n"]
          }
,
          {
           "cell_type": "markdown",
           "metadata": {},
           
           "source": ["## \n",
"\n",
"# From Data\n",
"\n",
"## Import a graph\n",
"\n",
"This directed network contains observed grooming episodes between free ranging rhesus macaques (Macaca mulatta)\n",
"in Cayo Santiago during a two month period in 1963. Cayo Santiago is an island off the coast of Puerto Rico, also\n",
"known as Isla de los monos (Island of the monkeys). A node represents a monkey and a directed edge A → B denotes\n",
"that the rhesus macaque A groomed rhesus macaque B. The integer edge weights indicate how often this behaviour was observed.\n",
"\n"]
          }
,
          {
           "cell_type": "code",
           "metadata": {},
            "execution_count": 12, "outputs": [],
           "source": ["open Graphoscope\n",
"\n",
"open FSharpAux.IO\n",
"open FSharpAux.IO.SchemaReader.Attribute\n"]
          }
,
          {
           "cell_type": "markdown",
           "metadata": {},
           
           "source": ["First we model the input domain as a reccord type and read a sequence of MonkeyEdges\n",
"\n"]
          }
,
          {
           "cell_type": "code",
           "metadata": {},
            "execution_count": 13, "outputs": [],
           "source": ["type MonkeyEdge = {\n",
"    [\u003cField(0)\u003e] Source  : int\n",
"    [\u003cField(1)\u003e] Target  : int\n",
"    [\u003cField(2)\u003e] Groomed : int\n",
"}\n",
"\n",
"let monkeyEdges =\n",
"    Seq.fromFileWithCsvSchema\u003cMonkeyEdge\u003e(\"D:/Source/Graphoscope/tests/Graphoscope.Tests/ReferenceGraphs/out.moreno_rhesus_rhesus.txt\",\u0027 \u0027,false,skipLines=2 )\n"]
          }
,
          {
           "cell_type": "markdown",
           "metadata": {},
           
           "source": ["Convert a MonkeyEdge record to a sequence of graph elements (sourceKey * sourceData * targetKey * targetData * edgeData)\n",
"\n"]
          }
,
          {
           "cell_type": "code",
           "metadata": {},
            "execution_count": 14, "outputs": [],
           "source": ["let monkeyGraph =\n",
"    monkeyEdges\n",
"    |\u003e Seq.map (fun mke -\u003e\n",
"        mke.Source, sprintf \"Monkey_%i\" mke.Source,mke.Target,sprintf \"Monkey_%i\" mke.Target,float mke.Groomed)\n",
"    |\u003e FGraph.ofSeq\n"]
          }
,
          {
           "cell_type": "markdown",
           "metadata": {},
           
           "source": ["let\u0027s use Cytoscape.NET for visualization:\n",
"\n"]
          }
,
          {
           "cell_type": "code",
           "metadata": {},
            "execution_count": 15, "outputs": [
          {
           "data": {
            "text/html": ["\u003cdiv id=\"e4eda927f83\" style=\"width:600px; height:600px\"\u003e\u003c!-- Cytoscape graph will be drawn inside this DIV --\u003e\u003c/div\u003e\u003cscript type=\"text/javascript\"\u003e",
"",
"    var graphdata = {\"container\":document.getElementById(\u0027e4eda927f83\u0027),\"elements\":[{\"data\":{\"id\":\"0\",\"label\":\"A\"}},{\"data\":{\"id\":\"1\",\"label\":\"B\"}},{\"data\":{\"id\":\"0_1\",\"source\":\"0\",\"target\":\"1\",\"label\":7.0}},{\"data\":{\"id\":\"0\",\"label\":\"A\"}},{\"data\":{\"id\":\"2\",\"label\":\"C\"}},{\"data\":{\"id\":\"0_2\",\"source\":\"0\",\"target\":\"2\",\"label\":12.0}},{\"data\":{\"id\":\"1\",\"label\":\"B\"}},{\"data\":{\"id\":\"2\",\"label\":\"C\"}},{\"data\":{\"id\":\"1_2\",\"source\":\"1\",\"target\":\"2\",\"label\":2.0}},{\"data\":{\"id\":\"1\",\"label\":\"B\"}},{\"data\":{\"id\":\"3\",\"label\":\"D\"}},{\"data\":{\"id\":\"1_3\",\"source\":\"1\",\"target\":\"3\",\"label\":9.0}},{\"data\":{\"id\":\"2\",\"label\":\"C\"}},{\"data\":{\"id\":\"4\",\"label\":\"E\"}},{\"data\":{\"id\":\"2_4\",\"source\":\"2\",\"target\":\"4\",\"label\":10.0}},{\"data\":{\"id\":\"3\",\"label\":\"D\"}},{\"data\":{\"id\":\"5\",\"label\":\"F\"}},{\"data\":{\"id\":\"3_5\",\"source\":\"3\",\"target\":\"5\",\"label\":1.0}},{\"data\":{\"id\":\"4\",\"label\":\"E\"}},{\"data\":{\"id\":\"3\",\"label\":\"D\"}},{\"data\":{\"id\":\"4_3\",\"source\":\"4\",\"target\":\"3\",\"label\":4.0}},{\"data\":{\"id\":\"4\",\"label\":\"E\"}},{\"data\":{\"id\":\"5\",\"label\":\"F\"}},{\"data\":{\"id\":\"4_5\",\"source\":\"4\",\"target\":\"5\",\"label\":5.0}}],\"style\":[{\"selector\":\"node\",\"style\":{\"content\":\"data(label)\",\"color\":\"#A00975\"}},{\"selector\":\"edge\",\"style\":{\"content\":\"data(label)\",\"curve-style\":\"bezier\",\"target-arrow-shape\":\"triangle\",\"source-arrow-shape\":\"circle\",\"color\":\"#438AFE\"}}],\"layout\":{\"name\":\"cose\",\"componentSpacing\":40},\"zoom\":{\"level\":null,\"zoomingEnabled\":false}}",
"",
"    var cy = cytoscape( graphdata );",
"",
"    cy.userZoomingEnabled( false );",
"",
"    \u003c/script\u003e"]
        },
           "execution_count": 15,
           "metadata": {},
           "output_type": "execute_result"
          }],
           "source": ["open Cytoscape.NET\n",
"let vizGraph =\n",
"    CyGraph.initEmpty ()\n",
"    |\u003e CyGraph.withElements [\n",
"            for (sk,s,tk,t,el) in (FGraph.toSeq monkeyGraph) do\n",
"                let sk, tk = (string sk), (string tk)\n",
"                yield Elements.node sk [ CyParam.label s ]\n",
"                yield Elements.node tk [ CyParam.label t ]\n",
"                yield Elements.edge  (sprintf \"%s_%s\" sk tk) sk tk [ CyParam.label el ]\n",
"        ]\n",
"    |\u003e CyGraph.withStyle \"node\"     \n",
"        [\n",
"            CyParam.content =. CyParam.label\n",
"            CyParam.color \"#A00975\"\n",
"        ]\n"]
          }],
            "metadata": {
            "kernelspec": {"display_name": ".NET (F#)", "language": "F#", "name": ".net-fsharp"},
            "langauge_info": {
        "file_extension": ".fs",
        "mimetype": "text/x-fsharp",
        "name": "C#",
        "pygments_lexer": "fsharp",
        "version": "4.5"
        }
        },
            "nbformat": 4,
            "nbformat_minor": 1
        }
        

