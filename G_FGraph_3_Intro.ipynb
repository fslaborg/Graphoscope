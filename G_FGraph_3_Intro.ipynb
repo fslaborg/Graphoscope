
        {
            "cells": [
          {
           "cell_type": "markdown",
           "metadata": {},
           
           "source": []
          }
,
          {
           "cell_type": "code",
           "metadata": {},
            "execution_count": null, "outputs": [],
           "source": ["#r \"nuget: Graphoscope, 0.3.0\"\n"]
          }
,
          {
           "cell_type": "markdown",
           "metadata": {},
           
           "source": ["# What is FGraph\n",
"\n",
"The FGraph is an adaptation of a functional graph.\n",
"In programming, a functional graph typically refers to a data structure or representation used to model and analyze the flow of data or the dependencies between functions in a functional programming paradigm.\n",
"Functional programming emphasizes the use of pure functions and avoids mutable state, making functional graphs particularly useful for understanding and optimizing the execution of functional programs.\n",
"It is compromised of a Dictionary, containing the nodeIndex as Key and the so called FContext as Value. The structure is visualised here:\n",
"\n",
"[![](https://mermaid.ink/img/pako:eNpNj80KwjAQhF9F9qSgL9CDoI2tIoigJxMPS7Jaf5qUJEWL-O5utaJ7mv1mmGUfoJ0hSOBwdTddoI-9rVC2xzORWe6xKvaj0XjaX3HsQs2g85il_Sx1NtI9djBlKOTakyFNITgf9j9jJtsGgRH_YCY3tdaB_rKCcS4n5oyarG46mrX0I3OW83fZkr52yxZyZo6fAzCEknyJJ8OPPdqIglhQSQoSlgb9RYGyT85hHd2msRqS6GsaQl0ZjCROePRYQnLAa2Baod05992fLxMxYKE?type=png)](https://mermaid.live/edit#pako:eNpNj80KwjAQhF9F9qSgL9CDoI2tIoigJxMPS7Jaf5qUJEWL-O5utaJ7mv1mmGUfoJ0hSOBwdTddoI-9rVC2xzORWe6xKvaj0XjaX3HsQs2g85il_Sx1NtI9djBlKOTakyFNITgf9j9jJtsGgRH_YCY3tdaB_rKCcS4n5oyarG46mrX0I3OW83fZkr52yxZyZo6fAzCEknyJJ8OPPdqIglhQSQoSlgb9RYGyT85hHd2msRqS6GsaQl0ZjCROePRYQnLAa2Baod05992fLxMxYKE)\n",
"\n",
"# Quickstart\n",
"\n",
"## Creating an empty graph and filling it with single elements\n",
"\n",
"Begin by creating an empty graph,meaning a data structure with no nodes or edges.\n",
"Then populate the graph with single elements, individual nodes are added one by one, and edges can be introduced to establish connections between them.\n",
"\n"]
          }
,
          {
           "cell_type": "code",
           "metadata": {},
            "execution_count": 3, "outputs": [
          {
           "data": {
            "text/plain": ["\"You have created a graph with 2 nodes and 1 edges\""]
        },
           "execution_count": 3,
           "metadata": {},
           "output_type": "execute_result"
          }],
           "source": ["open Graphoscope\n",
"open FGraph\n",
"\n",
"let graphToFill =\n",
"\n",
"    FGraph.empty\n",
"    |\u003e FGraph.addNode 1 \"1\"\n",
"    |\u003e FGraph.addNode 2 \"2\"\n",
"    |\u003e FGraph.addEdge 1 2 1.\n"]
          }
,
          {
           "cell_type": "markdown",
           "metadata": {},
           
           "source": ["# Working with Graphs\n",
"\n",
"## Creating a Graph using FGraph\n",
"\n",
"### Creating an empty graph and add collections of elements\n",
"\n",
"Another way of creating a graph is by filling it with collections of nodes and edges as seen below:\n",
"\n"]
          }
,
          {
           "cell_type": "code",
           "metadata": {},
            "execution_count": 6, "outputs": [
          {
           "data": {
            "text/plain": ["\"You have created a graph with 100 nodes and 45 edges\""]
        },
           "execution_count": 6,
           "metadata": {},
           "output_type": "execute_result"
          }],
           "source": ["let graphToFill\u0027 =\n",
"    \n",
"    let nodes = List.init 100 (fun x -\u003e x,$\"{x}\")\n",
"\n",
"    let edges = List.init 45 (fun x -\u003e x,x*2,1.)\n",
"\n",
"    FGraph.empty\n",
"    |\u003e FGraph.addNodes nodes\n",
"    |\u003e FGraph.addEdges edges\n"]
          }
,
          {
           "cell_type": "markdown",
           "metadata": {},
           
           "source": ["### Removing Nodes and Edges\n",
"\n",
"To remove Nodes or Edges you can just use the remove functions provided:\n",
"\n"]
          }
,
          {
           "cell_type": "code",
           "metadata": {},
            "execution_count": 9, "outputs": [
          {
           "data": {
            "text/plain": ["\"You have reduced the graph to 99 nodes and 43 edges\""]
        },
           "execution_count": 9,
           "metadata": {},
           "output_type": "execute_result"
          }],
           "source": ["let graphWithRemovedElements =\n",
"    graphToFill\u0027\n",
"    |\u003e FGraph.removeEdge 1 2\n",
"    |\u003e FGraph.removeNode 0\n"]
          }
,
          {
           "cell_type": "markdown",
           "metadata": {},
           
           "source": ["## \n",
"\n",
"# From Data\n",
"\n",
"## Import a graph\n",
"\n",
"This directed network contains observed grooming episodes between free ranging rhesus macaques (Macaca mulatta)\n",
"in Cayo Santiago during a two month period in 1963. Cayo Santiago is an island off the coast of Puerto Rico, also\n",
"known as Isla de los monos (Island of the monkeys). A node represents a monkey and a directed edge A → B denotes\n",
"that the rhesus macaque A groomed rhesus macaque B. The integer edge weights indicate how often this behaviour was observed.\n",
"\n"]
          }
,
          {
           "cell_type": "code",
           "metadata": {},
            "execution_count": 12, "outputs": [],
           "source": ["open Graphoscope\n",
"\n",
"open FSharpAux.IO\n",
"open FSharpAux.IO.SchemaReader.Attribute\n"]
          }
,
          {
           "cell_type": "markdown",
           "metadata": {},
           
           "source": ["First we model the input domain as a reccord type and read a sequence of MonkeyEdges\n",
"\n"]
          }
,
          {
           "cell_type": "code",
           "metadata": {},
            "execution_count": 13, "outputs": [],
           "source": ["type MonkeyEdge = {\n",
"    [\u003cField(0)\u003e] Source  : int\n",
"    [\u003cField(1)\u003e] Target  : int\n",
"    [\u003cField(2)\u003e] Groomed : int\n",
"}\n",
"\n",
"let monkeyEdges =\n",
"    Seq.fromFileWithCsvSchema\u003cMonkeyEdge\u003e(\"D:/Source/Graphoscope/tests/Graphoscope.Tests/ReferenceGraphs/out.moreno_rhesus_rhesus.txt\",\u0027 \u0027,false,skipLines=2 )\n"]
          }
,
          {
           "cell_type": "markdown",
           "metadata": {},
           
           "source": ["Convert a MonkeyEdge record to a sequence of graph elements (sourceKey * sourceData * targetKey * targetData * edgeData)\n",
"\n"]
          }
,
          {
           "cell_type": "code",
           "metadata": {},
            "execution_count": 14, "outputs": [],
           "source": ["let monkeyGraph =\n",
"    monkeyEdges\n",
"    |\u003e Seq.map (fun mke -\u003e\n",
"        mke.Source, sprintf \"Monkey_%i\" mke.Source,mke.Target,sprintf \"Monkey_%i\" mke.Target,float mke.Groomed)\n",
"    |\u003e FGraph.ofSeq\n"]
          }
,
          {
           "cell_type": "markdown",
           "metadata": {},
           
           "source": ["let\u0027s use Cytoscape.NET for visualization:\n",
"\n"]
          }
,
          {
           "cell_type": "code",
           "metadata": {},
            "execution_count": 15, "outputs": [
          {
           "data": {
            "text/html": ["\u003cdiv id=\"eb809ec8e07\" style=\"width:600px; height:600px\"\u003e\u003c!-- Cytoscape graph will be drawn inside this DIV --\u003e\u003c/div\u003e\u003cscript type=\"text/javascript\"\u003e",
"",
"    var graphdata = {\"container\":document.getElementById(\u0027eb809ec8e07\u0027),\"elements\":[{\"data\":{\"id\":\"1\",\"label\":1}},{\"data\":{\"id\":\"2\",\"label\":2}},{\"data\":{\"id\":\"1_2\",\"source\":\"1\",\"target\":\"2\",\"label\":1.0}},{\"data\":{\"id\":\"1\",\"label\":1}},{\"data\":{\"id\":\"3\",\"label\":3}},{\"data\":{\"id\":\"1_3\",\"source\":\"1\",\"target\":\"3\",\"label\":1.0}},{\"data\":{\"id\":\"1\",\"label\":1}},{\"data\":{\"id\":\"4\",\"label\":4}},{\"data\":{\"id\":\"1_4\",\"source\":\"1\",\"target\":\"4\",\"label\":1.0}},{\"data\":{\"id\":\"1\",\"label\":1}},{\"data\":{\"id\":\"5\",\"label\":5}},{\"data\":{\"id\":\"1_5\",\"source\":\"1\",\"target\":\"5\",\"label\":1.0}},{\"data\":{\"id\":\"1\",\"label\":1}},{\"data\":{\"id\":\"6\",\"label\":6}},{\"data\":{\"id\":\"1_6\",\"source\":\"1\",\"target\":\"6\",\"label\":1.0}},{\"data\":{\"id\":\"1\",\"label\":1}},{\"data\":{\"id\":\"7\",\"label\":7}},{\"data\":{\"id\":\"1_7\",\"source\":\"1\",\"target\":\"7\",\"label\":1.0}},{\"data\":{\"id\":\"1\",\"label\":1}},{\"data\":{\"id\":\"8\",\"label\":8}},{\"data\":{\"id\":\"1_8\",\"source\":\"1\",\"target\":\"8\",\"label\":1.0}},{\"data\":{\"id\":\"1\",\"label\":1}},{\"data\":{\"id\":\"9\",\"label\":9}},{\"data\":{\"id\":\"1_9\",\"source\":\"1\",\"target\":\"9\",\"label\":1.0}},{\"data\":{\"id\":\"1\",\"label\":1}},{\"data\":{\"id\":\"11\",\"label\":11}},{\"data\":{\"id\":\"1_11\",\"source\":\"1\",\"target\":\"11\",\"label\":1.0}},{\"data\":{\"id\":\"1\",\"label\":1}},{\"data\":{\"id\":\"12\",\"label\":12}},{\"data\":{\"id\":\"1_12\",\"source\":\"1\",\"target\":\"12\",\"label\":1.0}},{\"data\":{\"id\":\"1\",\"label\":1}},{\"data\":{\"id\":\"13\",\"label\":13}},{\"data\":{\"id\":\"1_13\",\"source\":\"1\",\"target\":\"13\",\"label\":1.0}},{\"data\":{\"id\":\"1\",\"label\":1}},{\"data\":{\"id\":\"14\",\"label\":14}},{\"data\":{\"id\":\"1_14\",\"source\":\"1\",\"target\":\"14\",\"label\":1.0}},{\"data\":{\"id\":\"1\",\"label\":1}},{\"data\":{\"id\":\"18\",\"label\":18}},{\"data\":{\"id\":\"1_18\",\"source\":\"1\",\"target\":\"18\",\"label\":1.0}},{\"data\":{\"id\":\"1\",\"label\":1}},{\"data\":{\"id\":\"20\",\"label\":20}},{\"data\":{\"id\":\"1_20\",\"source\":\"1\",\"target\":\"20\",\"label\":1.0}},{\"data\":{\"id\":\"1\",\"label\":1}},{\"data\":{\"id\":\"22\",\"label\":22}},{\"data\":{\"id\":\"1_22\",\"source\":\"1\",\"target\":\"22\",\"label\":1.0}},{\"data\":{\"id\":\"1\",\"label\":1}},{\"data\":{\"id\":\"32\",\"label\":32}},{\"data\":{\"id\":\"1_32\",\"source\":\"1\",\"target\":\"32\",\"label\":1.0}},{\"data\":{\"id\":\"2\",\"label\":2}},{\"data\":{\"id\":\"3\",\"label\":3}},{\"data\":{\"id\":\"2_3\",\"source\":\"2\",\"target\":\"3\",\"label\":1.0}},{\"data\":{\"id\":\"2\",\"label\":2}},{\"data\":{\"id\":\"4\",\"label\":4}},{\"data\":{\"id\":\"2_4\",\"source\":\"2\",\"target\":\"4\",\"label\":1.0}},{\"data\":{\"id\":\"2\",\"label\":2}},{\"data\":{\"id\":\"8\",\"label\":8}},{\"data\":{\"id\":\"2_8\",\"source\":\"2\",\"target\":\"8\",\"label\":1.0}},{\"data\":{\"id\":\"2\",\"label\":2}},{\"data\":{\"id\":\"14\",\"label\":14}},{\"data\":{\"id\":\"2_14\",\"source\":\"2\",\"target\":\"14\",\"label\":1.0}},{\"data\":{\"id\":\"2\",\"label\":2}},{\"data\":{\"id\":\"18\",\"label\":18}},{\"data\":{\"id\":\"2_18\",\"source\":\"2\",\"target\":\"18\",\"label\":1.0}},{\"data\":{\"id\":\"2\",\"label\":2}},{\"data\":{\"id\":\"20\",\"label\":20}},{\"data\":{\"id\":\"2_20\",\"source\":\"2\",\"target\":\"20\",\"label\":1.0}},{\"data\":{\"id\":\"2\",\"label\":2}},{\"data\":{\"id\":\"22\",\"label\":22}},{\"data\":{\"id\":\"2_22\",\"source\":\"2\",\"target\":\"22\",\"label\":1.0}},{\"data\":{\"id\":\"2\",\"label\":2}},{\"data\":{\"id\":\"31\",\"label\":31}},{\"data\":{\"id\":\"2_31\",\"source\":\"2\",\"target\":\"31\",\"label\":1.0}},{\"data\":{\"id\":\"3\",\"label\":3}},{\"data\":{\"id\":\"4\",\"label\":4}},{\"data\":{\"id\":\"3_4\",\"source\":\"3\",\"target\":\"4\",\"label\":1.0}},{\"data\":{\"id\":\"3\",\"label\":3}},{\"data\":{\"id\":\"8\",\"label\":8}},{\"data\":{\"id\":\"3_8\",\"source\":\"3\",\"target\":\"8\",\"label\":1.0}},{\"data\":{\"id\":\"3\",\"label\":3}},{\"data\":{\"id\":\"9\",\"label\":9}},{\"data\":{\"id\":\"3_9\",\"source\":\"3\",\"target\":\"9\",\"label\":1.0}},{\"data\":{\"id\":\"3\",\"label\":3}},{\"data\":{\"id\":\"10\",\"label\":10}},{\"data\":{\"id\":\"3_10\",\"source\":\"3\",\"target\":\"10\",\"label\":1.0}},{\"data\":{\"id\":\"3\",\"label\":3}},{\"data\":{\"id\":\"14\",\"label\":14}},{\"data\":{\"id\":\"3_14\",\"source\":\"3\",\"target\":\"14\",\"label\":1.0}},{\"data\":{\"id\":\"3\",\"label\":3}},{\"data\":{\"id\":\"28\",\"label\":28}},{\"data\":{\"id\":\"3_28\",\"source\":\"3\",\"target\":\"28\",\"label\":1.0}},{\"data\":{\"id\":\"3\",\"label\":3}},{\"data\":{\"id\":\"29\",\"label\":29}},{\"data\":{\"id\":\"3_29\",\"source\":\"3\",\"target\":\"29\",\"label\":1.0}},{\"data\":{\"id\":\"3\",\"label\":3}},{\"data\":{\"id\":\"33\",\"label\":33}},{\"data\":{\"id\":\"3_33\",\"source\":\"3\",\"target\":\"33\",\"label\":1.0}},{\"data\":{\"id\":\"4\",\"label\":4}},{\"data\":{\"id\":\"8\",\"label\":8}},{\"data\":{\"id\":\"4_8\",\"source\":\"4\",\"target\":\"8\",\"label\":1.0}},{\"data\":{\"id\":\"4\",\"label\":4}},{\"data\":{\"id\":\"13\",\"label\":13}},{\"data\":{\"id\":\"4_13\",\"source\":\"4\",\"target\":\"13\",\"label\":1.0}},{\"data\":{\"id\":\"4\",\"label\":4}},{\"data\":{\"id\":\"14\",\"label\":14}},{\"data\":{\"id\":\"4_14\",\"source\":\"4\",\"target\":\"14\",\"label\":1.0}},{\"data\":{\"id\":\"5\",\"label\":5}},{\"data\":{\"id\":\"7\",\"label\":7}},{\"data\":{\"id\":\"5_7\",\"source\":\"5\",\"target\":\"7\",\"label\":1.0}},{\"data\":{\"id\":\"5\",\"label\":5}},{\"data\":{\"id\":\"11\",\"label\":11}},{\"data\":{\"id\":\"5_11\",\"source\":\"5\",\"target\":\"11\",\"label\":1.0}},{\"data\":{\"id\":\"6\",\"label\":6}},{\"data\":{\"id\":\"7\",\"label\":7}},{\"data\":{\"id\":\"6_7\",\"source\":\"6\",\"target\":\"7\",\"label\":1.0}},{\"data\":{\"id\":\"6\",\"label\":6}},{\"data\":{\"id\":\"11\",\"label\":11}},{\"data\":{\"id\":\"6_11\",\"source\":\"6\",\"target\":\"11\",\"label\":1.0}},{\"data\":{\"id\":\"6\",\"label\":6}},{\"data\":{\"id\":\"17\",\"label\":17}},{\"data\":{\"id\":\"6_17\",\"source\":\"6\",\"target\":\"17\",\"label\":1.0}},{\"data\":{\"id\":\"7\",\"label\":7}},{\"data\":{\"id\":\"17\",\"label\":17}},{\"data\":{\"id\":\"7_17\",\"source\":\"7\",\"target\":\"17\",\"label\":1.0}},{\"data\":{\"id\":\"9\",\"label\":9}},{\"data\":{\"id\":\"31\",\"label\":31}},{\"data\":{\"id\":\"9_31\",\"source\":\"9\",\"target\":\"31\",\"label\":1.0}},{\"data\":{\"id\":\"9\",\"label\":9}},{\"data\":{\"id\":\"33\",\"label\":33}},{\"data\":{\"id\":\"9_33\",\"source\":\"9\",\"target\":\"33\",\"label\":1.0}},{\"data\":{\"id\":\"9\",\"label\":9}},{\"data\":{\"id\":\"34\",\"label\":34}},{\"data\":{\"id\":\"9_34\",\"source\":\"9\",\"target\":\"34\",\"label\":1.0}},{\"data\":{\"id\":\"10\",\"label\":10}},{\"data\":{\"id\":\"34\",\"label\":34}},{\"data\":{\"id\":\"10_34\",\"source\":\"10\",\"target\":\"34\",\"label\":1.0}},{\"data\":{\"id\":\"14\",\"label\":14}},{\"data\":{\"id\":\"34\",\"label\":34}},{\"data\":{\"id\":\"14_34\",\"source\":\"14\",\"target\":\"34\",\"label\":1.0}},{\"data\":{\"id\":\"15\",\"label\":15}},{\"data\":{\"id\":\"34\",\"label\":34}},{\"data\":{\"id\":\"15_34\",\"source\":\"15\",\"target\":\"34\",\"label\":1.0}},{\"data\":{\"id\":\"16\",\"label\":16}},{\"data\":{\"id\":\"34\",\"label\":34}},{\"data\":{\"id\":\"16_34\",\"source\":\"16\",\"target\":\"34\",\"label\":1.0}},{\"data\":{\"id\":\"19\",\"label\":19}},{\"data\":{\"id\":\"34\",\"label\":34}},{\"data\":{\"id\":\"19_34\",\"source\":\"19\",\"target\":\"34\",\"label\":1.0}},{\"data\":{\"id\":\"20\",\"label\":20}},{\"data\":{\"id\":\"34\",\"label\":34}},{\"data\":{\"id\":\"20_34\",\"source\":\"20\",\"target\":\"34\",\"label\":1.0}},{\"data\":{\"id\":\"21\",\"label\":21}},{\"data\":{\"id\":\"34\",\"label\":34}},{\"data\":{\"id\":\"21_34\",\"source\":\"21\",\"target\":\"34\",\"label\":1.0}},{\"data\":{\"id\":\"23\",\"label\":23}},{\"data\":{\"id\":\"34\",\"label\":34}},{\"data\":{\"id\":\"23_34\",\"source\":\"23\",\"target\":\"34\",\"label\":1.0}},{\"data\":{\"id\":\"24\",\"label\":24}},{\"data\":{\"id\":\"26\",\"label\":26}},{\"data\":{\"id\":\"24_26\",\"source\":\"24\",\"target\":\"26\",\"label\":1.0}},{\"data\":{\"id\":\"24\",\"label\":24}},{\"data\":{\"id\":\"28\",\"label\":28}},{\"data\":{\"id\":\"24_28\",\"source\":\"24\",\"target\":\"28\",\"label\":1.0}},{\"data\":{\"id\":\"24\",\"label\":24}},{\"data\":{\"id\":\"30\",\"label\":30}},{\"data\":{\"id\":\"24_30\",\"source\":\"24\",\"target\":\"30\",\"label\":1.0}},{\"data\":{\"id\":\"24\",\"label\":24}},{\"data\":{\"id\":\"33\",\"label\":33}},{\"data\":{\"id\":\"24_33\",\"source\":\"24\",\"target\":\"33\",\"label\":1.0}},{\"data\":{\"id\":\"24\",\"label\":24}},{\"data\":{\"id\":\"34\",\"label\":34}},{\"data\":{\"id\":\"24_34\",\"source\":\"24\",\"target\":\"34\",\"label\":1.0}},{\"data\":{\"id\":\"25\",\"label\":25}},{\"data\":{\"id\":\"28\",\"label\":28}},{\"data\":{\"id\":\"25_28\",\"source\":\"25\",\"target\":\"28\",\"label\":1.0}},{\"data\":{\"id\":\"25\",\"label\":25}},{\"data\":{\"id\":\"32\",\"label\":32}},{\"data\":{\"id\":\"25_32\",\"source\":\"25\",\"target\":\"32\",\"label\":1.0}},{\"data\":{\"id\":\"26\",\"label\":26}},{\"data\":{\"id\":\"25\",\"label\":25}},{\"data\":{\"id\":\"26_25\",\"source\":\"26\",\"target\":\"25\",\"label\":1.0}},{\"data\":{\"id\":\"26\",\"label\":26}},{\"data\":{\"id\":\"32\",\"label\":32}},{\"data\":{\"id\":\"26_32\",\"source\":\"26\",\"target\":\"32\",\"label\":1.0}},{\"data\":{\"id\":\"27\",\"label\":27}},{\"data\":{\"id\":\"34\",\"label\":34}},{\"data\":{\"id\":\"27_34\",\"source\":\"27\",\"target\":\"34\",\"label\":1.0}},{\"data\":{\"id\":\"28\",\"label\":28}},{\"data\":{\"id\":\"34\",\"label\":34}},{\"data\":{\"id\":\"28_34\",\"source\":\"28\",\"target\":\"34\",\"label\":1.0}},{\"data\":{\"id\":\"29\",\"label\":29}},{\"data\":{\"id\":\"32\",\"label\":32}},{\"data\":{\"id\":\"29_32\",\"source\":\"29\",\"target\":\"32\",\"label\":1.0}},{\"data\":{\"id\":\"29\",\"label\":29}},{\"data\":{\"id\":\"34\",\"label\":34}},{\"data\":{\"id\":\"29_34\",\"source\":\"29\",\"target\":\"34\",\"label\":1.0}},{\"data\":{\"id\":\"30\",\"label\":30}},{\"data\":{\"id\":\"27\",\"label\":27}},{\"data\":{\"id\":\"30_27\",\"source\":\"30\",\"target\":\"27\",\"label\":1.0}},{\"data\":{\"id\":\"30\",\"label\":30}},{\"data\":{\"id\":\"33\",\"label\":33}},{\"data\":{\"id\":\"30_33\",\"source\":\"30\",\"target\":\"33\",\"label\":1.0}},{\"data\":{\"id\":\"30\",\"label\":30}},{\"data\":{\"id\":\"34\",\"label\":34}},{\"data\":{\"id\":\"30_34\",\"source\":\"30\",\"target\":\"34\",\"label\":1.0}},{\"data\":{\"id\":\"31\",\"label\":31}},{\"data\":{\"id\":\"33\",\"label\":33}},{\"data\":{\"id\":\"31_33\",\"source\":\"31\",\"target\":\"33\",\"label\":1.0}},{\"data\":{\"id\":\"31\",\"label\":31}},{\"data\":{\"id\":\"34\",\"label\":34}},{\"data\":{\"id\":\"31_34\",\"source\":\"31\",\"target\":\"34\",\"label\":1.0}},{\"data\":{\"id\":\"32\",\"label\":32}},{\"data\":{\"id\":\"33\",\"label\":33}},{\"data\":{\"id\":\"32_33\",\"source\":\"32\",\"target\":\"33\",\"label\":1.0}},{\"data\":{\"id\":\"32\",\"label\":32}},{\"data\":{\"id\":\"34\",\"label\":34}},{\"data\":{\"id\":\"32_34\",\"source\":\"32\",\"target\":\"34\",\"label\":1.0}},{\"data\":{\"id\":\"33\",\"label\":33}},{\"data\":{\"id\":\"15\",\"label\":15}},{\"data\":{\"id\":\"33_15\",\"source\":\"33\",\"target\":\"15\",\"label\":1.0}},{\"data\":{\"id\":\"33\",\"label\":33}},{\"data\":{\"id\":\"16\",\"label\":16}},{\"data\":{\"id\":\"33_16\",\"source\":\"33\",\"target\":\"16\",\"label\":1.0}},{\"data\":{\"id\":\"33\",\"label\":33}},{\"data\":{\"id\":\"19\",\"label\":19}},{\"data\":{\"id\":\"33_19\",\"source\":\"33\",\"target\":\"19\",\"label\":1.0}},{\"data\":{\"id\":\"33\",\"label\":33}},{\"data\":{\"id\":\"21\",\"label\":21}},{\"data\":{\"id\":\"33_21\",\"source\":\"33\",\"target\":\"21\",\"label\":1.0}},{\"data\":{\"id\":\"33\",\"label\":33}},{\"data\":{\"id\":\"23\",\"label\":23}},{\"data\":{\"id\":\"33_23\",\"source\":\"33\",\"target\":\"23\",\"label\":1.0}},{\"data\":{\"id\":\"33\",\"label\":33}},{\"data\":{\"id\":\"34\",\"label\":34}},{\"data\":{\"id\":\"33_34\",\"source\":\"33\",\"target\":\"34\",\"label\":1.0}}],\"style\":[{\"selector\":\"node\",\"style\":{\"content\":\"data(label)\",\"color\":\"#A00975\"}}],\"layout\":{\"name\":\"breadthfirst\"},\"zoom\":{\"level\":null,\"zoomingEnabled\":false}}",
"",
"    var cy = cytoscape( graphdata );",
"",
"    cy.userZoomingEnabled( false );",
"",
"    \u003c/script\u003e"]
        },
           "execution_count": 15,
           "metadata": {},
           "output_type": "execute_result"
          }],
           "source": ["open Cytoscape.NET\n",
"let vizGraph =\n",
"    CyGraph.initEmpty ()\n",
"    |\u003e CyGraph.withElements [\n",
"            for (sk,s,tk,t,el) in (FGraph.toSeq monkeyGraph) do\n",
"                let sk, tk = (string sk), (string tk)\n",
"                yield Elements.node sk [ CyParam.label s ]\n",
"                yield Elements.node tk [ CyParam.label t ]\n",
"                yield Elements.edge  (sprintf \"%s_%s\" sk tk) sk tk [ CyParam.label el ]\n",
"        ]\n",
"    |\u003e CyGraph.withStyle \"node\"     \n",
"        [\n",
"            CyParam.content =. CyParam.label\n",
"            CyParam.color \"#A00975\"\n",
"        ]\n"]
          }],
            "metadata": {
            "kernelspec": {"display_name": ".NET (F#)", "language": "F#", "name": ".net-fsharp"},
            "langauge_info": {
        "file_extension": ".fs",
        "mimetype": "text/x-fsharp",
        "name": "C#",
        "pygments_lexer": "fsharp",
        "version": "4.5"
        }
        },
            "nbformat": 4,
            "nbformat_minor": 1
        }
        

