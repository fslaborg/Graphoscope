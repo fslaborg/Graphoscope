
{
 "cells": [
  {
   "cell_type": "markdown",
   "metadata": {},
   
   "source": [
    "# Graphoscope\n",
    "\n",
    "The Graphoscope project aims to provide a rigorous and performant tool for Network Science.\n",
    "It is aimed at anyone who works with Graphs/Networks and does not require a strong knowledge of F# to get started.\n",
    "\n",
    "# Getting Started\n",
    "\n",
    "## Prerequisites\n",
    "\n",
    "To set up a dev environment, we recommend [VSCode](https://code.visualstudio.com/) with the [Ionide](https://marketplace.visualstudio.com/items?itemName=Ionide.Ionide-fsharp) plugin\n",
    "You will also need [DotNet 6](https://dotnet.microsoft.com/en-us/download/dotnet/6.0) installed.\n",
    "\n",
    "The library is designed primarily for use in an fsharp scripting environment using .fsx files.\n",
    "But it also works well in [notebooks](https://marketplace.visualstudio.com/items?itemName=ms-dotnettools.dotnet-interactive-vscode).\n",
    "This [video](https://www.youtube.com/watch?v=1ROKvmcOloo\u0026list=PLdo4fOcmZ0oUFghYOp89baYFBTGxUkC7Z\u0026index=3) has a good walk through of setting your environment.\n",
    "\n",
    "## Importing a graph\n",
    "\n",
    "The library is organised by Graph type. Currently it supports Directed and Undirected graphs, and other types, such as multiplex, will be supported in future.\n",
    "\n",
    "For illustration, we will import a directed graph from The [KONECT Project](http://konect.cc/) website. This is an excellent resource with many graphs in an edge list based format which is simple\n",
    "to import and analyse using Graphoscope. We will start by importing a [graph](http://konect.cc/networks/moreno_rhesus/) describing the grooming interactions between rhesus monkeys.\n",
    "\n",
    "Create a monkeys.fsx and run the following code to import and print some basic measures. Further documention of DiGraph functionality is [here](reference/graphoscope-digraph.html)\n",
    "\n"
   ]
  }
,
  {
   "cell_type": "code",
   "metadata": {
    "dotnet_interactive": {
     "language": "fsharp"
    },
    "polyglot_notebook": {
     "kernelName": "fsharp"
    }
   },
   "execution_count": 3, "outputs": [
          {
           "data": {
            "text/plain": ["Successfully imported the graph! It has 16 nodes and 111 edges. The average degree is 13.875000"]
        },
           "execution_count": 3,
           "metadata": {},
           "output_type": "execute_result"
          }],
   "source": [
    "#r \"nuget: Graphoscope, 0.1.1\"\n",
    "\n",
    "open Graphoscope.Utility.Import\n",
    "open Graphoscope.DiGraph.Measures\n",
    "\n",
    "let file = __SOURCE_DIRECTORY__ + \"/data/out.moreno_rhesus_rhesus.txt\" // place edgelist in a \u0027data\u0027 folder inside the directory with the .fsx file\n",
    "let monkeyGraph = importDirectedGraph file \" \" 2 false\n",
    "\n",
    "printf \"Successfully imported the graph! It has %i nodes and %i edges. The average degree is %f \" \n",
    "  (getSize monkeyGraph) (getVolume monkeyGraph) (getMeanDegree monkeyGraph)\n"
   ]
  }
,
  {
   "cell_type": "markdown",
   "metadata": {},
   
   "source": [
    "We can also import undirected graphs using the [Graph](reference/graphoscope-graph.html) namespace. These examples use the [Karate club](http://konect.cc/networks/ucidata-zachary/) graph.\n",
    "\n"
   ]
  }
,
  {
   "cell_type": "code",
   "metadata": {
    "dotnet_interactive": {
     "language": "fsharp"
    },
    "polyglot_notebook": {
     "kernelName": "fsharp"
    }
   },
   "execution_count": 4, "outputs": [
          {
           "data": {
            "text/plain": ["Successfully imported the undirected karate graph! It has 34 nodes and 78 edges. The average degree is 4.588235"]
        },
           "execution_count": 4,
           "metadata": {},
           "output_type": "execute_result"
          }],
   "source": [
    "open Graphoscope.Graph\n",
    "open Graphoscope.Graph.Measures\n",
    "\n",
    "let karateFile= __SOURCE_DIRECTORY__ + \"/data/zachary.txt\"\n",
    "let karateGraph = importUnDirectedGraph karateFile \" \" 2 false\n",
    "getNodes karateGraph\n",
    "\n",
    "printf \"Successfully imported the undirected karate graph! It has %i nodes and %i edges. The average degree is %f \" \n",
    "  (getSize karateGraph) (getVolume karateGraph) (getMeanDegree karateGraph)\n"
   ]
  }
,
  {
   "cell_type": "markdown",
   "metadata": {},
   
   "source": [
    "## Creating a Graph\n",
    "\n",
    "We can also build a graph from scratch. Either by passing an array of edges:\n",
    "\n"
   ]
  }
,
  {
   "cell_type": "code",
   "metadata": {
    "dotnet_interactive": {
     "language": "fsharp"
    },
    "polyglot_notebook": {
     "kernelName": "fsharp"
    }
   },
   "execution_count": 5, "outputs": [],
   "source": [
    "[|(0, 1, 1.0); (0, 2, 1.0); (1, 1, 1.0); (1, 3, 1.0); (3, 2, 1.0); (4, 0, 1.0)|]\n",
    "|\u003e Builders.createFromEdges\n"
   ]
  }
,
  {
   "cell_type": "markdown",
   "metadata": {},
   
   "source": [
    "or by creating an empty graph and adding the nodes and edges one by one.\n",
    "The int and float after the \"create\" define the type of the nodes and edges.\n",
    "\n"
   ]
  }
,
  {
   "cell_type": "code",
   "metadata": {
    "dotnet_interactive": {
     "language": "fsharp"
    },
    "polyglot_notebook": {
     "kernelName": "fsharp"
    }
   },
   "execution_count": 6, "outputs": [
          {
           "data": {
            "text/plain": ["Manually created a graph with 3 nodes"]
        },
           "execution_count": 6,
           "metadata": {},
           "output_type": "execute_result"
          }],
   "source": [
    "let emptyGraph = Builders.create\u003cint, float\u003e()\n",
    "addNode emptyGraph 1\n",
    "addNode emptyGraph 2\n",
    "addNode emptyGraph 3\n",
    "let edge = (1,3, 1.0)\n",
    "addEdge emptyGraph edge\n",
    "\n",
    "printf \"Manually created a graph with %i nodes\" (getSize emptyGraph)\n"
   ]
  }
,
  {
   "cell_type": "markdown",
   "metadata": {},
   
   "source": [
    "## Algorithms\n",
    "\n",
    "A key aim of Graposcope is to provide highly performant graph analysis.\n",
    "Currently it contains implementations of Dijkstra, including a parallelised version, and Floyd-Warshall.\n",
    "\n",
    "We can get the shortest path between two nodes as follows\n",
    "\n"
   ]
  }
,
  {
   "cell_type": "code",
   "metadata": {
    "dotnet_interactive": {
     "language": "fsharp"
    },
    "polyglot_notebook": {
     "kernelName": "fsharp"
    }
   },
   "execution_count": 7, "outputs": [],
   "source": [
    "getShortestPath 26 16 karateGraph\n"
   ]
  }
,
  {
   "cell_type": "markdown",
   "metadata": {},
   
   "source": [
    "Alternatively you can return all the shortest paths for every pair of nodes using parrallel Dijkstra as follows\n",
    "\n"
   ]
  }
,
  {
   "cell_type": "code",
   "metadata": {
    "dotnet_interactive": {
     "language": "fsharp"
    },
    "polyglot_notebook": {
     "kernelName": "fsharp"
    }
   },
   "execution_count": 8, "outputs": [],
   "source": [
    "open Graphoscope.Graph.Algorithms\n",
    "let paths = Dijkstra.ComputeAllPairs karateGraph\n"
   ]
  }
,
  {
   "cell_type": "markdown",
   "metadata": {},
   
   "source": [
    "Or with Floyd-Warshall\n",
    "\n"
   ]
  }
,
  {
   "cell_type": "code",
   "metadata": {
    "dotnet_interactive": {
     "language": "fsharp"
    },
    "polyglot_notebook": {
     "kernelName": "fsharp"
    }
   },
   "execution_count": 9, "outputs": [],
   "source": [
    "FloydWarshall.Compute karateGraph\n"
   ]
  }
,
  {
   "cell_type": "markdown",
   "metadata": {},
   
   "source": [
    "Implementations of both algorithms are also available in the Digraph namespace.\n",
    "\n",
    "These algorthms both operate on an Adjacency Matrix and a function for converting graphs to this data structure is provided in the Converters modules.\n",
    "It can be executed as follows.\n",
    "\n"
   ]
  }
,
  {
   "cell_type": "code",
   "metadata": {
    "dotnet_interactive": {
     "language": "fsharp"
    },
    "polyglot_notebook": {
     "kernelName": "fsharp"
    }
   },
   "execution_count": 10, "outputs": [],
   "source": [
    "open Graphoscope.DiGraph.Converters\n",
    "toAdjacencyMatrix monkeyGraph\n"
   ]
  }
,
  {
   "cell_type": "markdown",
   "metadata": {},
   
   "source": [
    "## Charting\n",
    "\n",
    "Consider using [Plotly.NET](https://plotly.net/) for charting. Built on top of plotly.js, it is a mature library offering a wide range of customisable charts.\n",
    "Here is a basic example showing degree distribution within the Karate club.\n",
    "\n"
   ]
  }
,
  {
   "cell_type": "code",
   "metadata": {
    "dotnet_interactive": {
     "language": "fsharp"
    },
    "polyglot_notebook": {
     "kernelName": "fsharp"
    }
   },
   "execution_count": 11, "outputs": [
          {
           "data": {
            "text/plain": ["No value returned by any evaluator"]
        },
           "execution_count": 11,
           "metadata": {},
           "output_type": "execute_result"
          }],
   "source": [
    "#r \"nuget: Plotly.NET, 4.1.0\"\n",
    "open Plotly.NET\n",
    "\n",
    "getDegreeDistribution karateGraph\n",
    "|\u003e Chart.Histogram\n",
    "|\u003e GenericChart.toChartHTML\n"
   ]
  }
,
  {
   "cell_type": "markdown",
   "metadata": {},
   
   "source": [
    "# Contributing and copyright\n",
    "\n",
    "The project is hosted on [GitHub](https://github.com/fslaborg/Graphoscope) where you can [report issues](https://github.com/fslaborg/Graphoscope/issues), fork\n",
    "the project and submit pull requests. If you\u0027re adding a new public API, please also\n",
    "consider adding [samples](https://github.com/fslaborg/Graphoscope/tree/main/docs) that can be turned into a documentation. You might\n",
    "also want to read the [library design notes](https://github.com/fslaborg/Graphoscope/blob/main/README.md) to understand how it works.\n",
    "\n",
    "The library is available under the OSI-approved MIT license, which allows modification and\n",
    "redistribution for both commercial and non-commercial purposes. For more information see the\n",
    "[License file](https://github.com/fslaborg/Graphoscope/blob/main/LICENSE) in the GitHub repository.\n",
    "\n"
   ]
  }
 ],
 "metadata": {
  "kernelspec": {
   "display_name": ".NET (F#)",
   "language": "F#",
   "name": ".net-fsharp"
  },
  "language_info": {
   "file_extension": ".fs",
   "mimetype": "text/x-fsharp",
   "name": "polyglot-notebook",
   "pygments_lexer": "fsharp"
  },
  "polyglot_notebook": {
   "kernelInfo": {
    "defaultKernelName": "fsharp",
    "items": [
     {
      "aliases": [],
      "languageName": "fsharp",
      "name": "fsharp"
     }
    ]
   }
  }
 },
 "nbformat": 4,
 "nbformat_minor": 2
}

