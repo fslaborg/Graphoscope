
        {
            "cells": [
          {
           "cell_type": "markdown",
           "metadata": {},
           
           "source": ["# Graphoscope\n",
"\n",
"The Graphoscope project aims to provide a rigorous and performant tool for Network Science.\n",
"It is aimed at anyone who works with Graphs/Networks and does not require a strong knowledge of F# to get started.\n",
"\n",
"# Getting Started\n",
"\n",
"## Prerequisites\n",
"\n",
"To set up a dev environment, we recommend [VSCode](https://code.visualstudio.com/) with the [Ionide](https://marketplace.visualstudio.com/items?itemName=Ionide.Ionide-fsharp) plugin\n",
"You will also need [DotNet 6](https://dotnet.microsoft.com/en-us/download/dotnet/6.0) installed.\n",
"\n",
"The library is designed primarily for use in an fsharp scripting environment using .fsx files.\n",
"But it also works well in [notebooks](https://marketplace.visualstudio.com/items?itemName=ms-dotnettools.dotnet-interactive-vscode).\n",
"This [video](https://www.youtube.com/watch?v=1ROKvmcOloo\u0026list=PLdo4fOcmZ0oUFghYOp89baYFBTGxUkC7Z\u0026index=3) has a good walk through of setting your environment.\n",
"\n",
"# Contributing and copyright\n",
"\n",
"The project is hosted on [GitHub](https://github.com/fslaborg/Graphoscope) where you can [report issues](https://github.com/fslaborg/Graphoscope/issues), fork\n",
"the project and submit pull requests. If you\u0027re adding a new public API, please also\n",
"consider adding [samples](https://github.com/fslaborg/Graphoscope/tree/main/docs) that can be turned into a documentation. You might\n",
"also want to read the [library design notes](https://github.com/fslaborg/Graphoscope/blob/main/README.md) to understand how it works.\n",
"\n",
"The library is available under the OSI-approved MIT license, which allows modification and\n",
"redistribution for both commercial and non-commercial purposes. For more information see the\n",
"[License file](https://github.com/fslaborg/Graphoscope/blob/main/LICENSE) in the GitHub repository.\n",
"\n"]
          }],
            "metadata": {
            "kernelspec": {"display_name": ".NET (F#)", "language": "F#", "name": ".net-fsharp"},
            "langauge_info": {
        "file_extension": ".fs",
        "mimetype": "text/x-fsharp",
        "name": "C#",
        "pygments_lexer": "fsharp",
        "version": "4.5"
        }
        },
            "nbformat": 4,
            "nbformat_minor": 1
        }
        

