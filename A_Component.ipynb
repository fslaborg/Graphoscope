
        {
            "cells": [
          {
           "cell_type": "markdown",
           "metadata": {},
           
           "source": []
          }
,
          {
           "cell_type": "code",
           "metadata": {},
            "execution_count": null, "outputs": [],
           "source": ["#r \"nuget: Graphoscope, 0.5.1-preview.1\"\n"]
          }
,
          {
           "cell_type": "markdown",
           "metadata": {},
           
           "source": ["# Graph components\n",
"\n",
"In graph theory, a graph component refers to a subset of vertices in a graph, where each vertex is connected to every other vertex in the subset through a path of edges.\n",
"Let´s open an example graph and show the community detection per color:\n",
"\n"]
          }
,
          {
           "cell_type": "code",
           "metadata": {},
            "execution_count": 3, "outputs": [],
           "source": ["open Graphoscope\n",
"open Cytoscape.NET\n",
"\n",
"let componentExampleGraph =\n",
"    let edgeSeq =\n",
"        seq{\n",
"            0,1,1\n",
"            0,2,1\n",
"            0,3,1\n",
"            4,5,1\n",
"            4,6,1\n",
"            4,7,1\n",
"            8,9,1\n",
"            6,10,1\n",
"            8,11,1\n",
"        }\n",
"        |\u003e Seq.map(fun (s,t,w) -\u003e\n",
"            s,s,t,t,(float w)\n",
"        )\n",
"    AdjGraph.ofSeq edgeSeq\n"]
          }
,
          {
           "cell_type": "markdown",
           "metadata": {},
           
           "source": ["This graph is seperated into 3 distinct components.\n",
"Next we use a pre-generated color-pallet and Cytoscape.NET to visualise the graph and its components:\n",
"\n"]
          }
,
          {
           "cell_type": "code",
           "metadata": {},
            "execution_count": 4, "outputs": [
          {
           "data": {
            "text/html": ["\u003cdiv id=\"eefd03b9c1c\" style=\"width:600px; height:600px\"\u003e\u003c!-- Cytoscape graph will be drawn inside this DIV --\u003e\u003c/div\u003e\u003cscript type=\"text/javascript\"\u003e",
"",
"    var graphdata = {\"container\":document.getElementById(\u0027eefd03b9c1c\u0027),\"elements\":[{\"data\":{\"id\":\"0\",\"label\":0,\"color\":\"#3F51B5\"}},{\"data\":{\"id\":\"1\",\"label\":1,\"color\":\"#3F51B5\"}},{\"data\":{\"id\":\"0_1\",\"source\":\"0\",\"target\":\"1\"}},{\"data\":{\"id\":\"0\",\"label\":0,\"color\":\"#3F51B5\"}},{\"data\":{\"id\":\"2\",\"label\":2,\"color\":\"#3F51B5\"}},{\"data\":{\"id\":\"0_2\",\"source\":\"0\",\"target\":\"2\"}},{\"data\":{\"id\":\"0\",\"label\":0,\"color\":\"#3F51B5\"}},{\"data\":{\"id\":\"3\",\"label\":3,\"color\":\"#3F51B5\"}},{\"data\":{\"id\":\"0_3\",\"source\":\"0\",\"target\":\"3\"}},{\"data\":{\"id\":\"4\",\"label\":4,\"color\":\"#FFC107\"}},{\"data\":{\"id\":\"5\",\"label\":5,\"color\":\"#FFC107\"}},{\"data\":{\"id\":\"4_5\",\"source\":\"4\",\"target\":\"5\"}},{\"data\":{\"id\":\"4\",\"label\":4,\"color\":\"#FFC107\"}},{\"data\":{\"id\":\"6\",\"label\":6,\"color\":\"#FFC107\"}},{\"data\":{\"id\":\"4_6\",\"source\":\"4\",\"target\":\"6\"}},{\"data\":{\"id\":\"4\",\"label\":4,\"color\":\"#FFC107\"}},{\"data\":{\"id\":\"7\",\"label\":7,\"color\":\"#FFC107\"}},{\"data\":{\"id\":\"4_7\",\"source\":\"4\",\"target\":\"7\"}},{\"data\":{\"id\":\"6\",\"label\":6,\"color\":\"#FFC107\"}},{\"data\":{\"id\":\"10\",\"label\":10,\"color\":\"#FFEB3B\"}},{\"data\":{\"id\":\"6_10\",\"source\":\"6\",\"target\":\"10\"}},{\"data\":{\"id\":\"8\",\"label\":8,\"color\":\"#FFEB3B\"}},{\"data\":{\"id\":\"9\",\"label\":9,\"color\":\"#FFEB3B\"}},{\"data\":{\"id\":\"8_9\",\"source\":\"8\",\"target\":\"9\"}},{\"data\":{\"id\":\"8\",\"label\":8,\"color\":\"#FFEB3B\"}},{\"data\":{\"id\":\"11\",\"label\":11,\"color\":\"#FFEB3B\"}},{\"data\":{\"id\":\"8_11\",\"source\":\"8\",\"target\":\"11\"}}],\"style\":[{\"selector\":\"node\",\"style\":{\"color\":\"black\",\"label\":\"data(label)\",\"text-valign\":\"center\",\"text-outline-width\":0.5,\"background-color\":\"data(color)\",\"weight\":100}}],\"layout\":{\"name\":\"breadthfirst\"},\"zoom\":{\"level\":null,\"zoomingEnabled\":false}}",
"",
"    var cy = cytoscape( graphdata );",
"",
"    cy.userZoomingEnabled( false );",
"",
"    \u003c/script\u003e"]
        },
           "execution_count": 4,
           "metadata": {},
           "output_type": "execute_result"
          }],
           "source": ["let colors =    \n",
"    [\n",
"        \"#3F51B5\"\n",
"        \"#3F51B5\"\n",
"        \"#3F51B5\"\n",
"        \"#3F51B5\"\n",
"        \"#FFC107\"        \n",
"        \"#FFC107\"        \n",
"        \"#FFC107\"        \n",
"        \"#FFC107\"\n",
"        \"#FFEB3B\"\n",
"        \"#FFEB3B\"\n",
"        \"#FFEB3B\"\n",
"        \"#FFEB3B\"\n",
"    ]\n",
"\n",
"let renderCyGraph (nodeLabelF) (graph:AdjGraph\u003c\u0027NodeKey,\u0027NodeData,\u0027EdgeData\u003e) =\n",
"\n",
"    CyGraph.initEmpty ()\n",
"    |\u003e CyGraph.withElements [\n",
"            for (sk,s,tk,t,el) in (AdjGraph.toSeq graph) do\n",
"                let sk, tk = (string sk), (string tk)\n",
"                yield Elements.node sk (nodeLabelF s )\n",
"                yield Elements.node tk (nodeLabelF t )\n",
"                yield Elements.edge  (sprintf \"%s_%s\" sk tk) sk tk [ ]\n",
"        ]\n",
"    |\u003e CyGraph.withStyle \"node\"\n",
"        [\n",
"            CyParam.color \"black\"\n",
"            CyParam.label =. CyParam.label\n",
"            CyParam.Text.Align.center\n",
"            CyParam.Text.Outline.width 0.5\n",
"            CyParam.Background.color   =. CyParam.color\n",
"            CyParam.weight 100\n",
"        ]\n",
"\n",
"    |\u003e CyGraph.withLayout  (\n",
"        Layout.initBreadthfirst(Layout.LayoutOptions.Generic())\n",
"            )  \n",
"    |\u003e CyGraph.withZoom(CytoscapeModel.Zoom.Init(ZoomingEnabled=false))\n",
"    |\u003e CyGraph.withSize(800, 400)\n",
"    |\u003e Cytoscape.NET.HTML.toGraphHTML() \n",
"\n",
"\n",
"renderCyGraph (fun x -\u003e [CyParam.label x;CyParam.color colors.[x]]) componentExampleGraph\n"]
          }
,
          {
           "cell_type": "markdown",
           "metadata": {},
           
           "source": ["We can use Algorithms.Components to seperate the components from each other, where each components gets its own subgraph:\n",
"\n"]
          }
,
          {
           "cell_type": "code",
           "metadata": {},
            "execution_count": 5, "outputs": [
          {
           "data": {
            "text/html": ["\u003cdiv id=\"e9b6c2e151b\" style=\"width:600px; height:600px\"\u003e\u003c!-- Cytoscape graph will be drawn inside this DIV --\u003e\u003c/div\u003e\u003cscript type=\"text/javascript\"\u003e",
"",
"    var graphdata = {\"container\":document.getElementById(\u0027e9b6c2e151b\u0027),\"elements\":[{\"data\":{\"id\":\"0\",\"label\":0,\"color\":\"#3F51B5\"}},{\"data\":{\"id\":\"1\",\"label\":1,\"color\":\"#3F51B5\"}},{\"data\":{\"id\":\"0_1\",\"source\":\"0\",\"target\":\"1\"}},{\"data\":{\"id\":\"0\",\"label\":0,\"color\":\"#3F51B5\"}},{\"data\":{\"id\":\"2\",\"label\":2,\"color\":\"#3F51B5\"}},{\"data\":{\"id\":\"0_2\",\"source\":\"0\",\"target\":\"2\"}},{\"data\":{\"id\":\"0\",\"label\":0,\"color\":\"#3F51B5\"}},{\"data\":{\"id\":\"3\",\"label\":3,\"color\":\"#3F51B5\"}},{\"data\":{\"id\":\"0_3\",\"source\":\"0\",\"target\":\"3\"}}],\"style\":[{\"selector\":\"node\",\"style\":{\"color\":\"black\",\"label\":\"data(label)\",\"text-valign\":\"center\",\"text-outline-width\":0.5,\"background-color\":\"data(color)\",\"weight\":100}}],\"layout\":{\"name\":\"breadthfirst\"},\"zoom\":{\"level\":null,\"zoomingEnabled\":false}}",
"",
"    var cy = cytoscape( graphdata );",
"",
"    cy.userZoomingEnabled( false );",
"",
"    \u003c/script\u003e"]
        },
           "execution_count": 5,
           "metadata": {},
           "output_type": "execute_result"
          }],
           "source": ["let components = \n",
"    Algorithms.Components.getGraphComponentsOfAdjGraph componentExampleGraph\n",
"\n",
"\n",
"renderCyGraph (fun (x) -\u003e [CyParam.label x;CyParam.color colors.[x]]) (components|\u003eSeq.head) \n"]
          }],
            "metadata": {
            "kernelspec": {"display_name": ".NET (F#)", "language": "F#", "name": ".net-fsharp"},
            "langauge_info": {
        "file_extension": ".fs",
        "mimetype": "text/x-fsharp",
        "name": "C#",
        "pygments_lexer": "fsharp",
        "version": "4.5"
        }
        },
            "nbformat": 4,
            "nbformat_minor": 1
        }
        

