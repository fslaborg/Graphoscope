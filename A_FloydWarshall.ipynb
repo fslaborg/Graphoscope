
        {
            "cells": [
          {
           "cell_type": "markdown",
           "metadata": {},
           
           "source": []
          }
,
          {
           "cell_type": "code",
           "metadata": {},
            "execution_count": null, "outputs": [],
           "source": ["#r \"nuget: Graphoscope, 0.2.0\"\n"]
          }
,
          {
           "cell_type": "markdown",
           "metadata": {},
           
           "source": ["# Introducing the Floyd-Warshall Algorithm for All-Pairs Shortest Path in Graphs\n",
"\n",
"The Floyd-Warshall algorithm is a widely used algorithm in graph theory and computer science for finding the shortest paths between all pairs of vertices in a weighted graph. It is named after its inventors, Robert Floyd and Stephen Warshall, who independently proposed it in the early 1960s.\n",
"\n",
"The algorithm works on both directed and undirected graphs, where edges have non-negative weights (can be zero or positive but not negative). The goal is to find the shortest path distance between all pairs of vertices in the graph.\n",
"\n",
"Floyd-Warshall and Dijkstra\u0027s algorithm are both used to find the shortest paths in a graph, but they serve different purposes and have different use cases.\n",
"\n",
"They are not direct alternatives to each other; rather, they are used in different scenarios based on the problem requirements and the characteristics of the graph.\n",
"\n"]
          }
,
          {
           "cell_type": "code",
           "metadata": {},
            "execution_count": 3, "outputs": [],
           "source": ["open Graphoscope\n",
"open Cytoscape.NET\n",
"\n",
"let dwgDiGraph =\n",
"    let nodes = [|0;1;2;3;4;5|]\n",
"    let edges = [|0,1,7.;0,2,12.;1,2,2.;1,3,9.;2,4,10.;4,3,4.;3,5,1.;4,5,5.|]\n",
"    DiGraph.createFromNodes nodes\n",
"    |\u003eDiGraph.addEdges edges \n",
"    \n",
"\n",
"let dijDiGraph = Algorithms.FloydWarshall.fromJaggedArray  (DiGraph.toMatrix dwgDiGraph)\n"]
          }],
            "metadata": {
            "kernelspec": {"display_name": ".NET (F#)", "language": "F#", "name": ".net-fsharp"},
            "langauge_info": {
        "file_extension": ".fs",
        "mimetype": "text/x-fsharp",
        "name": "C#",
        "pygments_lexer": "fsharp",
        "version": "4.5"
        }
        },
            "nbformat": 4,
            "nbformat_minor": 1
        }
        

