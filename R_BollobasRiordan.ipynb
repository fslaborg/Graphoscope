
        {
            "cells": [
          {
           "cell_type": "markdown",
           "metadata": {},
           
           "source": []
          }
,
          {
           "cell_type": "code",
           "metadata": {},
            "execution_count": null, "outputs": [],
           "source": ["#r \"nuget: Graphoscope, 0.2.0\"\n"]
          }
,
          {
           "cell_type": "markdown",
           "metadata": {},
           
           "source": ["# Random graph models\n",
"\n",
"## Bollobás-Riordan methode\n",
"\n",
"The Bollobás-Riordan method, proposed by mathematicians Béla Bollobás and Oliver Riordan, is a procedure for generating random graphs with a given degree sequence\n",
"It allows researchers to explore and analyze the properties of large-scale networks and complex systems in a stochastic setting.\n",
"\n"]
          }
,
          {
           "cell_type": "code",
           "metadata": {},
            "execution_count": 3, "outputs": [
          {
           "data": {
            "text/plain": ["\"You have created a graph with 50 nodes and 83 edges\""]
        },
           "execution_count": 3,
           "metadata": {},
           "output_type": "execute_result"
          }],
           "source": ["open Graphoscope\n",
"open Graphoscope.RandomModels\n",
"let N = 50\n",
"\n",
"let myBollobasRiordan = RandomModels.BollobasRiordan.initDirectedFGraph  N 0.1 0.6 0.3 0.6 0.4 FGraph.empty\n"]
          }],
            "metadata": {
            "kernelspec": {"display_name": ".NET (F#)", "language": "F#", "name": ".net-fsharp"},
            "langauge_info": {
        "file_extension": ".fs",
        "mimetype": "text/x-fsharp",
        "name": "C#",
        "pygments_lexer": "fsharp",
        "version": "4.5"
        }
        },
            "nbformat": 4,
            "nbformat_minor": 1
        }
        

