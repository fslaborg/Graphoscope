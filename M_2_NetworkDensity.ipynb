
        {
            "cells": [
          {
           "cell_type": "markdown",
           "metadata": {},
           
           "source": []
          }
,
          {
           "cell_type": "code",
           "metadata": {},
            "execution_count": null, "outputs": [],
           "source": ["#r \"nuget: Graphoscope, 0.4.0\"\n"]
          }
,
          {
           "cell_type": "markdown",
           "metadata": {},
           
           "source": ["# Intoduction to Measures using FGraph\n",
"\n",
"Graphoscope provides a comprehensive set of measurement tools designed to analyze, quantify, and interpret the features of graphs.\n",
"These measurements offer valuable insights into the topology, connectivity, and dynamics of your networks.\n",
"Whether you are exploring social connections, optimizing communication pathways, or studying the spread of diseases, our graph measurement functionalities are here to simplify your analysis and decision-making processes.\n",
"\n",
"## Creating a graph by reading a complete graph representation as one.\n",
"\n",
"Step 1 is the loading of our [example graph](http://konect.cc/networks/moreno_rhesus/), sourced from [The KONECT Project](http://konect.cc) describing the grooming interactions between rhesus monkeys.\n",
"\n",
"## NetworkDensity\n",
"\n",
"Network density measures the proportion of connections or edges present in a network relative to the total possible number of connections.\n",
"It quantifies the level of interconnectedness between nodes in the network and carries several key implications for the Connectivity of the graph.\n",
"\n"]
          }
,
          {
           "cell_type": "code",
           "metadata": {},
            "execution_count": 4, "outputs": [
          {
           "data": {
            "text/plain": ["\"The network density of the monkey graph is 0.462500\""]
        },
           "execution_count": 4,
           "metadata": {},
           "output_type": "execute_result"
          }],
           "source": ["let networkDensity = Measures.GraphDensity.compute monkeyGraphDens\n"]
          }],
            "metadata": {
            "kernelspec": {"display_name": ".NET (F#)", "language": "F#", "name": ".net-fsharp"},
            "langauge_info": {
        "file_extension": ".fs",
        "mimetype": "text/x-fsharp",
        "name": "C#",
        "pygments_lexer": "fsharp",
        "version": "4.5"
        }
        },
            "nbformat": 4,
            "nbformat_minor": 1
        }
        

