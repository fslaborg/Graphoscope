
        {
            "cells": [
          {
           "cell_type": "markdown",
           "metadata": {},
           
           "source": []
          }
,
          {
           "cell_type": "code",
           "metadata": {},
            "execution_count": null, "outputs": [],
           "source": ["#r \"nuget: Graphoscope, 0.3.0\"\n"]
          }
,
          {
           "cell_type": "markdown",
           "metadata": {},
           
           "source": ["# The Louvain-Algorithm for Community Detection and Modularity Optimization\n",
"\n",
"The Louvain algorithm is a popular and efficient method for community detection and modularity optimization in complex networks.\n",
"Community detection is the task of partitioning a network into groups of nodes, known as communities or clusters, where nodes within a community are densely connected to each other while having fewer connections to nodes in other communities.\n",
"Modularity is a measure used to quantify the quality of a given network partition.\n",
"Let´s open an example graph and show the community detection per color:\n",
"\n"]
          }
,
          {
           "cell_type": "code",
           "metadata": {},
            "execution_count": 3, "outputs": [],
           "source": ["open Graphoscope\n",
"open Cytoscape.NET\n",
"\n",
"let louvainExampleGraph =\n",
"    let edgeSeq =\n",
"        seq{\n",
"            0,1,1\n",
"            0,3,1\n",
"            0,4,1\n",
"            1,2,1\n",
"            1,4,1\n",
"            2,3,1\n",
"            3,4,1\n",
"            2,5,1\n",
"            5,6,1\n",
"            5,7,1\n",
"            5,8,1\n",
"            6,7,1\n",
"            7,8,1\n",
"        }\n",
"        |\u003e Seq.map(fun (s,t,w) -\u003e\n",
"            s,s,t,t,(float w)\n",
"        )\n",
"    AdjGraph.ofSeq edgeSeq\n"]
          }
,
          {
           "cell_type": "markdown",
           "metadata": {},
           
           "source": ["This graph is an adaptation of an example graph in the [networksciencebook](http://networksciencebook.com/chapter/9#modularity).\n",
"Next we use a pre-generated color-pallet and Cytoscape.NET to visualise the graph and its communites:\n",
"\n"]
          }
,
          {
           "cell_type": "code",
           "metadata": {},
            "execution_count": 4, "outputs": [
          {
           "data": {
            "text/html": ["\u003cdiv id=\"e1b66d51b0d\" style=\"width:600px; height:600px\"\u003e\u003c!-- Cytoscape graph will be drawn inside this DIV --\u003e\u003c/div\u003e\u003cscript type=\"text/javascript\"\u003e",
"",
"    var graphdata = {\"container\":document.getElementById(\u0027e1b66d51b0d\u0027),\"elements\":[{\"data\":{\"id\":\"0\",\"label\":0,\"color\":\"#3F51B5\"}},{\"data\":{\"id\":\"1\",\"label\":1,\"color\":\"#FFC107\"}},{\"data\":{\"id\":\"0_1\",\"source\":\"0\",\"target\":\"1\"}},{\"data\":{\"id\":\"0\",\"label\":0,\"color\":\"#3F51B5\"}},{\"data\":{\"id\":\"3\",\"label\":3,\"color\":\"##E91E63\"}},{\"data\":{\"id\":\"0_3\",\"source\":\"0\",\"target\":\"3\"}},{\"data\":{\"id\":\"0\",\"label\":0,\"color\":\"#3F51B5\"}},{\"data\":{\"id\":\"4\",\"label\":4,\"color\":\"#2196F3\"}},{\"data\":{\"id\":\"0_4\",\"source\":\"0\",\"target\":\"4\"}},{\"data\":{\"id\":\"1\",\"label\":1,\"color\":\"#FFC107\"}},{\"data\":{\"id\":\"2\",\"label\":2,\"color\":\"#F44336\"}},{\"data\":{\"id\":\"1_2\",\"source\":\"1\",\"target\":\"2\"}},{\"data\":{\"id\":\"1\",\"label\":1,\"color\":\"#FFC107\"}},{\"data\":{\"id\":\"4\",\"label\":4,\"color\":\"#2196F3\"}},{\"data\":{\"id\":\"1_4\",\"source\":\"1\",\"target\":\"4\"}},{\"data\":{\"id\":\"2\",\"label\":2,\"color\":\"#F44336\"}},{\"data\":{\"id\":\"5\",\"label\":5,\"color\":\"#00BCD4\"}},{\"data\":{\"id\":\"2_5\",\"source\":\"2\",\"target\":\"5\"}},{\"data\":{\"id\":\"3\",\"label\":3,\"color\":\"##E91E63\"}},{\"data\":{\"id\":\"2\",\"label\":2,\"color\":\"#F44336\"}},{\"data\":{\"id\":\"3_2\",\"source\":\"3\",\"target\":\"2\"}},{\"data\":{\"id\":\"3\",\"label\":3,\"color\":\"##E91E63\"}},{\"data\":{\"id\":\"4\",\"label\":4,\"color\":\"#2196F3\"}},{\"data\":{\"id\":\"3_4\",\"source\":\"3\",\"target\":\"4\"}},{\"data\":{\"id\":\"5\",\"label\":5,\"color\":\"#00BCD4\"}},{\"data\":{\"id\":\"6\",\"label\":6,\"color\":\"#C8E6C9\"}},{\"data\":{\"id\":\"5_6\",\"source\":\"5\",\"target\":\"6\"}},{\"data\":{\"id\":\"5\",\"label\":5,\"color\":\"#00BCD4\"}},{\"data\":{\"id\":\"7\",\"label\":7,\"color\":\"#9C27B0\"}},{\"data\":{\"id\":\"5_7\",\"source\":\"5\",\"target\":\"7\"}},{\"data\":{\"id\":\"5\",\"label\":5,\"color\":\"#00BCD4\"}},{\"data\":{\"id\":\"8\",\"label\":8,\"color\":\"#FFEB3B\"}},{\"data\":{\"id\":\"5_8\",\"source\":\"5\",\"target\":\"8\"}},{\"data\":{\"id\":\"6\",\"label\":6,\"color\":\"#C8E6C9\"}},{\"data\":{\"id\":\"7\",\"label\":7,\"color\":\"#9C27B0\"}},{\"data\":{\"id\":\"6_7\",\"source\":\"6\",\"target\":\"7\"}},{\"data\":{\"id\":\"7\",\"label\":7,\"color\":\"#9C27B0\"}},{\"data\":{\"id\":\"8\",\"label\":8,\"color\":\"#FFEB3B\"}},{\"data\":{\"id\":\"7_8\",\"source\":\"7\",\"target\":\"8\"}}],\"style\":[{\"selector\":\"node\",\"style\":{\"color\":\"black\",\"label\":\"data(label)\",\"text-valign\":\"center\",\"text-outline-width\":0.5,\"background-color\":\"data(color)\",\"weight\":100}}],\"layout\":{\"name\":\"breadthfirst\"},\"zoom\":{\"level\":null,\"zoomingEnabled\":false}}",
"",
"    var cy = cytoscape( graphdata );",
"",
"    cy.userZoomingEnabled( false );",
"",
"    \u003c/script\u003e"]
        },
           "execution_count": 4,
           "metadata": {},
           "output_type": "execute_result"
          }],
           "source": ["let colors =    \n",
"    [\n",
"        \"#3F51B5\"\n",
"        \"#FFC107\"\n",
"        \"#F44336\"\n",
"        \"##E91E63\"\n",
"        \"#2196F3\"\n",
"        \"#00BCD4\"\n",
"        \"#C8E6C9\"\n",
"        \"#9C27B0\"\n",
"        \"#FFEB3B\"\n",
"\n",
"    ]\n",
"\n",
"let renderCyGraph (nodeLabelF) (graph:AdjGraph\u003c\u0027NodeKey,\u0027NodeData,\u0027EdgeData\u003e) =\n",
"\n",
"    CyGraph.initEmpty ()\n",
"    |\u003e CyGraph.withElements [\n",
"            for (sk,s,tk,t,el) in (AdjGraph.toSeq graph) do\n",
"                let sk, tk = (string sk), (string tk)\n",
"                yield Elements.node sk (nodeLabelF s )\n",
"                yield Elements.node tk (nodeLabelF t )\n",
"                yield Elements.edge  (sprintf \"%s_%s\" sk tk) sk tk [ ]\n",
"        ]\n",
"    |\u003e CyGraph.withStyle \"node\"\n",
"        [\n",
"            CyParam.color \"black\"\n",
"            CyParam.label =. CyParam.label\n",
"            CyParam.Text.Align.center\n",
"            CyParam.Text.Outline.width 0.5\n",
"            CyParam.Background.color   =. CyParam.color\n",
"            CyParam.weight 100\n",
"        ]\n",
"\n",
"    |\u003e CyGraph.withLayout  (\n",
"        Layout.initBreadthfirst(Layout.LayoutOptions.Generic())\n",
"            )  \n",
"    |\u003e CyGraph.withZoom(CytoscapeModel.Zoom.Init(ZoomingEnabled=false))\n",
"    |\u003e CyGraph.withSize(800, 400)\n",
"    |\u003e Cytoscape.NET.HTML.toGraphHTML() \n",
"\n",
"\n",
"renderCyGraph (fun x -\u003e [CyParam.label x;CyParam.color colors.[x]]) louvainExampleGraph\n"]
          }
,
          {
           "cell_type": "markdown",
           "metadata": {},
           
           "source": ["Now lets apply our Louvain Algorithm and color the nodes in accordance to their optimised community:\n",
"\n"]
          }
,
          {
           "cell_type": "code",
           "metadata": {},
            "execution_count": 5, "outputs": [
          {
           "data": {
            "text/html": ["\u003cdiv id=\"e78d261dd54\" style=\"width:600px; height:600px\"\u003e\u003c!-- Cytoscape graph will be drawn inside this DIV --\u003e\u003c/div\u003e\u003cscript type=\"text/javascript\"\u003e",
"",
"    var graphdata = {\"container\":document.getElementById(\u0027e78d261dd54\u0027),\"elements\":[{\"data\":{\"id\":\"0\",\"label\":0,\"color\":\"#3F51B5\"}},{\"data\":{\"id\":\"1\",\"label\":0,\"color\":\"#3F51B5\"}},{\"data\":{\"id\":\"0_1\",\"source\":\"0\",\"target\":\"1\"}},{\"data\":{\"id\":\"0\",\"label\":0,\"color\":\"#3F51B5\"}},{\"data\":{\"id\":\"3\",\"label\":0,\"color\":\"#3F51B5\"}},{\"data\":{\"id\":\"0_3\",\"source\":\"0\",\"target\":\"3\"}},{\"data\":{\"id\":\"0\",\"label\":0,\"color\":\"#3F51B5\"}},{\"data\":{\"id\":\"4\",\"label\":0,\"color\":\"#3F51B5\"}},{\"data\":{\"id\":\"0_4\",\"source\":\"0\",\"target\":\"4\"}},{\"data\":{\"id\":\"1\",\"label\":0,\"color\":\"#3F51B5\"}},{\"data\":{\"id\":\"2\",\"label\":0,\"color\":\"#3F51B5\"}},{\"data\":{\"id\":\"1_2\",\"source\":\"1\",\"target\":\"2\"}},{\"data\":{\"id\":\"1\",\"label\":0,\"color\":\"#3F51B5\"}},{\"data\":{\"id\":\"4\",\"label\":0,\"color\":\"#3F51B5\"}},{\"data\":{\"id\":\"1_4\",\"source\":\"1\",\"target\":\"4\"}},{\"data\":{\"id\":\"2\",\"label\":0,\"color\":\"#3F51B5\"}},{\"data\":{\"id\":\"5\",\"label\":1,\"color\":\"#FFC107\"}},{\"data\":{\"id\":\"2_5\",\"source\":\"2\",\"target\":\"5\"}},{\"data\":{\"id\":\"3\",\"label\":0,\"color\":\"#3F51B5\"}},{\"data\":{\"id\":\"2\",\"label\":0,\"color\":\"#3F51B5\"}},{\"data\":{\"id\":\"3_2\",\"source\":\"3\",\"target\":\"2\"}},{\"data\":{\"id\":\"3\",\"label\":0,\"color\":\"#3F51B5\"}},{\"data\":{\"id\":\"4\",\"label\":0,\"color\":\"#3F51B5\"}},{\"data\":{\"id\":\"3_4\",\"source\":\"3\",\"target\":\"4\"}},{\"data\":{\"id\":\"5\",\"label\":1,\"color\":\"#FFC107\"}},{\"data\":{\"id\":\"6\",\"label\":1,\"color\":\"#FFC107\"}},{\"data\":{\"id\":\"5_6\",\"source\":\"5\",\"target\":\"6\"}},{\"data\":{\"id\":\"5\",\"label\":1,\"color\":\"#FFC107\"}},{\"data\":{\"id\":\"7\",\"label\":1,\"color\":\"#FFC107\"}},{\"data\":{\"id\":\"5_7\",\"source\":\"5\",\"target\":\"7\"}},{\"data\":{\"id\":\"5\",\"label\":1,\"color\":\"#FFC107\"}},{\"data\":{\"id\":\"8\",\"label\":1,\"color\":\"#FFC107\"}},{\"data\":{\"id\":\"5_8\",\"source\":\"5\",\"target\":\"8\"}},{\"data\":{\"id\":\"6\",\"label\":1,\"color\":\"#FFC107\"}},{\"data\":{\"id\":\"7\",\"label\":1,\"color\":\"#FFC107\"}},{\"data\":{\"id\":\"6_7\",\"source\":\"6\",\"target\":\"7\"}},{\"data\":{\"id\":\"7\",\"label\":1,\"color\":\"#FFC107\"}},{\"data\":{\"id\":\"8\",\"label\":1,\"color\":\"#FFC107\"}},{\"data\":{\"id\":\"7_8\",\"source\":\"7\",\"target\":\"8\"}}],\"style\":[{\"selector\":\"node\",\"style\":{\"color\":\"black\",\"label\":\"data(label)\",\"text-valign\":\"center\",\"text-outline-width\":0.5,\"background-color\":\"data(color)\",\"weight\":100}}],\"layout\":{\"name\":\"breadthfirst\"},\"zoom\":{\"level\":null,\"zoomingEnabled\":false}}",
"",
"    var cy = cytoscape( graphdata );",
"",
"    cy.userZoomingEnabled( false );",
"",
"    \u003c/script\u003e"]
        },
           "execution_count": 5,
           "metadata": {},
           "output_type": "execute_result"
          }],
           "source": ["let louvainGraph =\n",
"    Algorithms.Louvain.louvain 0.0001 id louvainExampleGraph\n",
"\n",
"\n",
"renderCyGraph (fun (a,x) -\u003e [CyParam.label x;CyParam.color colors.[x]]) louvainGraph\n"]
          }],
            "metadata": {
            "kernelspec": {"display_name": ".NET (F#)", "language": "F#", "name": ".net-fsharp"},
            "langauge_info": {
        "file_extension": ".fs",
        "mimetype": "text/x-fsharp",
        "name": "C#",
        "pygments_lexer": "fsharp",
        "version": "4.5"
        }
        },
            "nbformat": 4,
            "nbformat_minor": 1
        }
        

