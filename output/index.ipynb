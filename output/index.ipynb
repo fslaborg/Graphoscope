
{
 "cells": [
  {
   "cell_type": "code",
   "metadata": {
    "dotnet_interactive": {
     "language": "fsharp"
    },
    "polyglot_notebook": {
     "kernelName": "fsharp"
    }
   },
   "execution_count": null, "outputs": [],
   "source": [
    "#r \"nuget: Graphoscope, 0.0.1+a06b9c2-0.1.0\"\n"
   ]
  }
,
  {
   "cell_type": "markdown",
   "metadata": {},
   
   "source": [
    "# Graphoscope\n",
    "\n",
    "[![Binder](https://github.com/fslaborg/Graphoscope/img/badge-binder.svg)](https://mybinder.org/v2/gh/plotly/plotly.net/gh-pages?urlpath=/tree/home/jovyan/index.ipynb)\u0026emsp;\n",
    "[![Script](https://github.com/fslaborg/Graphoscope/img/badge-script.svg)](https://github.com/fslaborg/Graphoscope/index.fsx)\u0026emsp;\n",
    "[![Notebook](https://github.com/fslaborg/Graphoscope/img/badge-notebook.svg)](https://github.com/fslaborg/Graphoscope/index.ipynb)\n",
    "\n",
    "A pragmatic approach to network science.\n",
    "\n",
    "Here is how to use a function in the docs from the DLL built from the project:\n",
    "\n"
   ]
  }
,
  {
   "cell_type": "code",
   "metadata": {
    "dotnet_interactive": {
     "language": "fsharp"
    },
    "polyglot_notebook": {
     "kernelName": "fsharp"
    }
   },
   "execution_count": 3, "outputs": [
          {
           "data": {
            "text/plain": ["No value returned by any evaluator"]
        },
           "execution_count": 3,
           "metadata": {},
           "output_type": "execute_result"
          }],
   "source": [
    "open Graphoscope\n",
    "\n",
    "GraphPlaceholder.hello \"world\"\n"
   ]
  }
,
  {
   "cell_type": "markdown",
   "metadata": {},
   
   "source": [
    "# Contributing and copyright\n",
    "\n",
    "The project is hosted on [GitHub](https://github.com/fslaborg/Graphoscope) where you can [report issues](https://github.com/fslaborg/Graphoscope/issues), fork\n",
    "the project and submit pull requests. If you\u0027re adding a new public API, please also\n",
    "consider adding [samples](https://github.com/fslaborg/Graphoscope/tree/main/docs) that can be turned into a documentation. You might\n",
    "also want to read the [library design notes](https://github.com/fslaborg/Graphoscope/blob/main/README.md) to understand how it works.\n",
    "\n",
    "The library is available under the OSI-approved MIT license, which allows modification and\n",
    "redistribution for both commercial and non-commercial purposes. For more information see the\n",
    "[License file](https://github.com/fslaborg/Graphoscope/blob/main/LICENSE) in the GitHub repository.\n",
    "\n"
   ]
  }
 ],
 "metadata": {
  "kernelspec": {
   "display_name": ".NET (F#)",
   "language": "F#",
   "name": ".net-fsharp"
  },
  "language_info": {
   "file_extension": ".fs",
   "mimetype": "text/x-fsharp",
   "name": "polyglot-notebook",
   "pygments_lexer": "fsharp"
  },
  "polyglot_notebook": {
   "kernelInfo": {
    "defaultKernelName": "fsharp",
    "items": [
     {
      "aliases": [],
      "languageName": "fsharp",
      "name": "fsharp"
     }
    ]
   }
  }
 },
 "nbformat": 4,
 "nbformat_minor": 2
}

