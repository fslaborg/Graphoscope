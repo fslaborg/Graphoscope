
        {
            "cells": [
          {
           "cell_type": "markdown",
           "metadata": {},
           
           "source": []
          }
,
          {
           "cell_type": "code",
           "metadata": {},
            "execution_count": null, "outputs": [],
           "source": ["#r \"nuget: Graphoscope, 0.3.0\"\n"]
          }
,
          {
           "cell_type": "markdown",
           "metadata": {},
           
           "source": ["# Shortest path between all the vertices using Dijkstra Algorithm on an FGraph.\n",
"\n",
"Dijkstra algorithm, given by a brilliant Dutch computer scientist and software engineer Dr. Edsger Dijkstra in 1959.\n",
"Dijkstra algorithm is a greedy algorithm that solves the single-source shortest path problem for a directed and undirected\n",
"graph that has non-negative edge weight.\n",
"\n",
"Let\u0027s start with a directed weighted graph. We will find shortest path between all the vertices using Dijkstra Algorithm.\n",
"\n"]
          }
,
          {
           "cell_type": "code",
           "metadata": {},
            "execution_count": 3, "outputs": [],
           "source": ["open Graphoscope\n",
"\n",
"let dwg =\n",
"    let nodes = [|0,\"A\";1,\"B\";2,\"C\";3,\"D\";4,\"E\";5,\"F\"|]\n",
"    let edges = [|0,1,7.;0,2,12.;1,2,2.;1,3,9.;2,4,10.;4,3,4.;3,5,1.;4,5,5.|]\n",
"    FGraph.create(nodes,edges)\n"]
          }
,
          {
           "cell_type": "markdown",
           "metadata": {},
           
           "source": ["Let´s have a look on the graph:\n",
"\n",
"\u003cdiv id=\"e27f985d17c\" style=\"width:600px; height:600px\"\u003e\u003c!-- Cytoscape graph will be drawn inside this DIV --\u003e\u003c/div\u003e\u003cscript type=\"text/javascript\"\u003e\n",
"    var graphdata = {\"container\":document.getElementById(\u0027e27f985d17c\u0027),\"elements\":[{\"data\":{\"id\":\"0\",\"label\":\"A\"}},{\"data\":{\"id\":\"1\",\"label\":\"B\"}},{\"data\":{\"id\":\"0_1\",\"source\":\"0\",\"target\":\"1\",\"label\":7.0}},{\"data\":{\"id\":\"0\",\"label\":\"A\"}},{\"data\":{\"id\":\"2\",\"label\":\"C\"}},{\"data\":{\"id\":\"0_2\",\"source\":\"0\",\"target\":\"2\",\"label\":12.0}},{\"data\":{\"id\":\"1\",\"label\":\"B\"}},{\"data\":{\"id\":\"2\",\"label\":\"C\"}},{\"data\":{\"id\":\"1_2\",\"source\":\"1\",\"target\":\"2\",\"label\":2.0}},{\"data\":{\"id\":\"1\",\"label\":\"B\"}},{\"data\":{\"id\":\"3\",\"label\":\"D\"}},{\"data\":{\"id\":\"1_3\",\"source\":\"1\",\"target\":\"3\",\"label\":9.0}},{\"data\":{\"id\":\"2\",\"label\":\"C\"}},{\"data\":{\"id\":\"4\",\"label\":\"E\"}},{\"data\":{\"id\":\"2_4\",\"source\":\"2\",\"target\":\"4\",\"label\":10.0}},{\"data\":{\"id\":\"3\",\"label\":\"D\"}},{\"data\":{\"id\":\"5\",\"label\":\"F\"}},{\"data\":{\"id\":\"3_5\",\"source\":\"3\",\"target\":\"5\",\"label\":1.0}},{\"data\":{\"id\":\"4\",\"label\":\"E\"}},{\"data\":{\"id\":\"3\",\"label\":\"D\"}},{\"data\":{\"id\":\"4_3\",\"source\":\"4\",\"target\":\"3\",\"label\":4.0}},{\"data\":{\"id\":\"4\",\"label\":\"E\"}},{\"data\":{\"id\":\"5\",\"label\":\"F\"}},{\"data\":{\"id\":\"4_5\",\"source\":\"4\",\"target\":\"5\",\"label\":5.0}}],\"style\":[{\"selector\":\"node\",\"style\":{\"content\":\"data(label)\",\"color\":\"#A00975\"}},{\"selector\":\"edge\",\"style\":{\"content\":\"data(label)\",\"curve-style\":\"bezier\",\"target-arrow-shape\":\"triangle\",\"source-arrow-shape\":\"circle\",\"color\":\"#438AFE\"}}],\"layout\":{\"name\":\"cose\",\"componentSpacing\":40},\"zoom\":{\"level\":null,\"zoomingEnabled\":false}}\n",
"    var cy = cytoscape( graphdata );\n",
"    cy.userZoomingEnabled( false );\n",
"    \u003c/script\u003e\n",
"\n",
"And now, let´s compute the shortest paths via Dijkstra :\n",
"\n"]
          }
,
          {
           "cell_type": "code",
           "metadata": {},
            "execution_count": 5, "outputs": [],
           "source": ["let dij = Algorithms.Dijkstra.compute(0,id,dwg)\n"]
          }
,
          {
           "cell_type": "markdown",
           "metadata": {},
           
           "source": ["# Shortest path between all the vertices using Dijkstra Algorithm on DiGraph.\n",
"\n",
"Computation of the shortest paths is also available using the DiGraph structure.\n",
"Lets compare them using the same graph as above:\n",
"\n"]
          }
,
          {
           "cell_type": "code",
           "metadata": {},
            "execution_count": 6, "outputs": [],
           "source": ["let dwgDiGraph =\n",
"    let nodes = [|0;1;2;3;4;5|]|\u003eArray.map(fun x -\u003e x,x)\n",
"    let edges = [|0,1,7.;0,2,12.;1,2,2.;1,3,9.;2,4,10.;4,3,4.;3,5,1.;4,5,5.|]\n",
"    DiGraph.createFromNodes nodes\n",
"    |\u003e DiGraph.addEdges edges\n",
"    \n",
"\n",
"let dijDiGraph = Algorithms.Dijkstra.compute(0,id,dwgDiGraph)\n"]
          }],
            "metadata": {
            "kernelspec": {"display_name": ".NET (F#)", "language": "F#", "name": ".net-fsharp"},
            "langauge_info": {
        "file_extension": ".fs",
        "mimetype": "text/x-fsharp",
        "name": "C#",
        "pygments_lexer": "fsharp",
        "version": "4.5"
        }
        },
            "nbformat": 4,
            "nbformat_minor": 1
        }
        

