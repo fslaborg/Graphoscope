
        {
            "cells": [
          {
           "cell_type": "markdown",
           "metadata": {},
           
           "source": ["# Random graph models\n",
"\n",
"## Motivation and overview\n",
"\n",
"In every implementation workflow, there comes the point where you have to test wether everything works as expexted or not.\n",
"For this, a matching test set is necessary. In some cases (e.g. List sorting algorithms) creating those test sets is done in a matter of seconds.\n",
"In other cases, especially if the data you work with is more than one dimensional, it can get quite tedious.\n",
"To this effect, FSharp.FGl comes equipped with implementations of random graph generation models.\n",
"In this tutorial I want to introduce you to the models implemented and how to generate graphs with the given functions:\n",
"\n",
"* Gilbert model\n",
"  \n",
"\n",
"* Barabási-Albert model\n",
"  \n",
"\n",
"* Bollobás-Riordan methode\n",
"  \n",
"\n"]
          }],
            "metadata": {
            "kernelspec": {"display_name": ".NET (F#)", "language": "F#", "name": ".net-fsharp"},
            "langauge_info": {
        "file_extension": ".fs",
        "mimetype": "text/x-fsharp",
        "name": "C#",
        "pygments_lexer": "fsharp",
        "version": "4.5"
        }
        },
            "nbformat": 4,
            "nbformat_minor": 1
        }
        

