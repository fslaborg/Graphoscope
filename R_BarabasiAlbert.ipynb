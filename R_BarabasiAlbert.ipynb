
        {
            "cells": [
          {
           "cell_type": "markdown",
           "metadata": {},
           
           "source": []
          }
,
          {
           "cell_type": "code",
           "metadata": {},
            "execution_count": null, "outputs": [],
           "source": ["#r \"nuget: Graphoscope, 0.2.0\"\n"]
          }
,
          {
           "cell_type": "markdown",
           "metadata": {},
           
           "source": ["# Random graph models\n",
"\n",
"## Barabási-Albert model\n",
"\n",
"The Barabási-Albert (BA) model is a popular network growth model used to generate random scale-free networks.\n",
"It provides a valuable tool for generating synthetic networks that exhibit similar properties to many natural and man-made networks, mainly a scale-free character.\n",
"\n"]
          }
,
          {
           "cell_type": "code",
           "metadata": {},
            "execution_count": 3, "outputs": [],
           "source": ["open Graphoscope\n",
"open Graphoscope.RandomModels\n",
"let N = 50\n",
"\n",
"let edgesPerIteration = 5\n",
"\n",
"// let myBarabasiAlbert = RandomModels.BarabasiAlbert.initFGraph  N edgesPerIteration id id (fun x -\u003e 1.) FGraph.empty\n",
"\n",
"//printfn\"You have created a graph with %i nodes and %i edges\"(FGraph.countNodes myBarabasiAlbert) (FGraph.countEdges myBarabasiAlbert)\n"]
          }],
            "metadata": {
            "kernelspec": {"display_name": ".NET (F#)", "language": "F#", "name": ".net-fsharp"},
            "langauge_info": {
        "file_extension": ".fs",
        "mimetype": "text/x-fsharp",
        "name": "C#",
        "pygments_lexer": "fsharp",
        "version": "4.5"
        }
        },
            "nbformat": 4,
            "nbformat_minor": 1
        }
        

