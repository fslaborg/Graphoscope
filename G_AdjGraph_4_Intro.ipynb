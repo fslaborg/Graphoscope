
        {
            "cells": [
          {
           "cell_type": "markdown",
           "metadata": {},
           
           "source": []
          }
,
          {
           "cell_type": "code",
           "metadata": {},
            "execution_count": null, "outputs": [],
           "source": ["#r \"nuget: Graphoscope, 0.5.1-preview.1\"\n"]
          }
,
          {
           "cell_type": "markdown",
           "metadata": {},
           
           "source": ["# What is AdjGraph\n",
"\n",
"The AdjGraph is an undirected adaptation of the FGraph.\n",
"It combines the predecessors and successors into just one element called neighbours.\n",
"\n",
"[![](https://mermaid.ink/img/pako:eNpdjssOgjAQRX-FzAoT-AEWJgjIjo3urIuxHR7yKCltDCH8u7VijM5qcs7NzF2AS0EQQdnJB69Rae-cssGzE19icc8VjvXVC8O9d_ALG21p3m3e0cRRm-Q08I9KnEqdSlHjD878gpqqvkmjpk1kThz_Hrxp7mei-l6BAHpSPTbCll5ehIGuqScGkV0FqpYBG1abQ6PlaR44RFoZCsCMAjWlDVYKe4hK7CZan7YATRE?type=png)](https://mermaid.live/edit#pako:eNpdjssOgjAQRX-FzAoT-AEWJgjIjo3urIuxHR7yKCltDCH8u7VijM5qcs7NzF2AS0EQQdnJB69Rae-cssGzE19icc8VjvXVC8O9d_ALG21p3m3e0cRRm-Q08I9KnEqdSlHjD878gpqqvkmjpk1kThz_Hrxp7mei-l6BAHpSPTbCll5ehIGuqScGkV0FqpYBG1abQ6PlaR44RFoZCsCMAjWlDVYKe4hK7CZan7YATRE)\n",
"\n",
"# Quickstart\n",
"\n",
"## Creating an empty graph and filling it with single elements\n",
"\n",
"Begin by creating an empty graph,meaning a data structure with no nodes or edges.\n",
"Then populate the graph with single elements, individual nodes are added one by one, and edges can be introduced to establish connections between them.\n",
"\n"]
          }
,
          {
           "cell_type": "code",
           "metadata": {},
            "execution_count": 3, "outputs": [
          {
           "data": {
            "text/plain": ["\"You have created a graph with 2 nodes and 1 edges\""]
        },
           "execution_count": 3,
           "metadata": {},
           "output_type": "execute_result"
          }],
           "source": ["open Graphoscope\n",
"open AdjGraph\n",
"\n",
"let graphToFillAdjGraph =\n",
"\n",
"    AdjGraph.empty\n",
"    |\u003e AdjGraph.addNode 1 \"1\"\n",
"    |\u003e AdjGraph.addNode 2 \"2\"\n",
"    |\u003e AdjGraph.addEdge 1 2 1.\n"]
          }
,
          {
           "cell_type": "markdown",
           "metadata": {},
           
           "source": ["# Working with Graphs\n",
"\n",
"## Creating a Graph using AdjGraph\n",
"\n",
"### Creating an empty graph and add collections of elements\n",
"\n",
"Another way of creating a graph is by filling it with collections of nodes and edges as seen below:\n",
"\n"]
          }
,
          {
           "cell_type": "code",
           "metadata": {},
            "execution_count": 6, "outputs": [
          {
           "data": {
            "text/plain": ["\"You have created a graph with 100 nodes and 45 edges\""]
        },
           "execution_count": 6,
           "metadata": {},
           "output_type": "execute_result"
          }],
           "source": ["let graphToFillAdjGraph\u0027 =\n",
"    \n",
"    let nodes = List.init 100 (fun x -\u003e x,$\"{x}\")\n",
"\n",
"    let edges = List.init 45 (fun x -\u003e x,x*2,1.)\n",
"\n",
"    AdjGraph.empty\n",
"    |\u003e AdjGraph.addNodes nodes\n",
"    |\u003e AdjGraph.addEdges edges\n"]
          }
,
          {
           "cell_type": "markdown",
           "metadata": {},
           
           "source": ["### Removing Nodes and Edges\n",
"\n",
"To remove Nodes or Edges you can just use the remove functions provided:\n",
"\n"]
          }
,
          {
           "cell_type": "code",
           "metadata": {},
            "execution_count": 9, "outputs": [
          {
           "data": {
            "text/plain": ["\"You have reduced the graph to 99 nodes and 43 edges\""]
        },
           "execution_count": 9,
           "metadata": {},
           "output_type": "execute_result"
          }],
           "source": ["let graphWithRemovedElementsAdjGraph =\n",
"    graphToFillAdjGraph\u0027\n",
"    |\u003e AdjGraph.removeEdge 1 2\n",
"    |\u003e AdjGraph.removeNode 0\n"]
          }
,
          {
           "cell_type": "markdown",
           "metadata": {},
           
           "source": ["## \n",
"\n",
"# From Data\n",
"\n",
"## Import a graph\n",
"\n",
"This is the well-known and much-used Zachary karate club network. The data was collected from the members of a university karate club by Wayne Zachary in 1977.\n",
"Each node represents a member of the club, and each edge represents a tie between two members of the club.\n",
"The network is undirected.\n",
"\n"]
          }
,
          {
           "cell_type": "code",
           "metadata": {},
            "execution_count": 12, "outputs": [],
           "source": ["open FSharp.Data\n",
"\n",
"let getElementOfFile (fullpath: string) (delimiter: string) (headerRows: int) (weightsIncluded: bool)  = \n",
"        let rows  = CsvFile.Load(fullpath, delimiter, skipRows = headerRows, hasHeaders = false).Rows\n",
"        rows\n",
"        |\u003e Seq.map (fun row -\u003e int row[0],int row[0], int row[1],int row[1], if weightsIncluded then float row[2] else 1.0)\n",
"\n",
"\n",
"let karateFileAdj= __SOURCE_DIRECTORY__ + \"/../tests/Graphoscope.Tests/ReferenceGraphs/zachary.txt\"\n",
"\n",
"let karateGraphAdj = \n",
"  let g = AdjGraph.empty\u003cint,int,float\u003e\n",
"  getElementOfFile karateFileAdj \" \" 2 false\n",
"  |\u003e Seq.iter(fun (s1,s2,t1,t2,w: float) -\u003e AdjGraph.addElement s1 s2 t1 t2 w g|\u003eignore)\n",
"  g\n"]
          }
,
          {
           "cell_type": "markdown",
           "metadata": {},
           
           "source": ["let\u0027s use Cytoscape.NET for visualization:\n",
"\n"]
          }
,
          {
           "cell_type": "code",
           "metadata": {},
            "execution_count": 13, "outputs": [
          {
           "data": {
            "text/html": ["\u003cdiv id=\"eb217a15ebb\" style=\"width:600px; height:600px\"\u003e\u003c!-- Cytoscape graph will be drawn inside this DIV --\u003e\u003c/div\u003e\u003cscript type=\"text/javascript\"\u003e",
"",
"    var graphdata = {\"container\":document.getElementById(\u0027eb217a15ebb\u0027),\"elements\":[{\"data\":{\"id\":\"1\",\"label\":1}},{\"data\":{\"id\":\"2\",\"label\":2}},{\"data\":{\"id\":\"1_2\",\"source\":\"1\",\"target\":\"2\",\"label\":1.0}},{\"data\":{\"id\":\"1\",\"label\":1}},{\"data\":{\"id\":\"3\",\"label\":3}},{\"data\":{\"id\":\"1_3\",\"source\":\"1\",\"target\":\"3\",\"label\":1.0}},{\"data\":{\"id\":\"1\",\"label\":1}},{\"data\":{\"id\":\"4\",\"label\":4}},{\"data\":{\"id\":\"1_4\",\"source\":\"1\",\"target\":\"4\",\"label\":1.0}},{\"data\":{\"id\":\"1\",\"label\":1}},{\"data\":{\"id\":\"5\",\"label\":5}},{\"data\":{\"id\":\"1_5\",\"source\":\"1\",\"target\":\"5\",\"label\":1.0}},{\"data\":{\"id\":\"1\",\"label\":1}},{\"data\":{\"id\":\"6\",\"label\":6}},{\"data\":{\"id\":\"1_6\",\"source\":\"1\",\"target\":\"6\",\"label\":1.0}},{\"data\":{\"id\":\"1\",\"label\":1}},{\"data\":{\"id\":\"7\",\"label\":7}},{\"data\":{\"id\":\"1_7\",\"source\":\"1\",\"target\":\"7\",\"label\":1.0}},{\"data\":{\"id\":\"1\",\"label\":1}},{\"data\":{\"id\":\"8\",\"label\":8}},{\"data\":{\"id\":\"1_8\",\"source\":\"1\",\"target\":\"8\",\"label\":1.0}},{\"data\":{\"id\":\"1\",\"label\":1}},{\"data\":{\"id\":\"9\",\"label\":9}},{\"data\":{\"id\":\"1_9\",\"source\":\"1\",\"target\":\"9\",\"label\":1.0}},{\"data\":{\"id\":\"1\",\"label\":1}},{\"data\":{\"id\":\"11\",\"label\":11}},{\"data\":{\"id\":\"1_11\",\"source\":\"1\",\"target\":\"11\",\"label\":1.0}},{\"data\":{\"id\":\"1\",\"label\":1}},{\"data\":{\"id\":\"12\",\"label\":12}},{\"data\":{\"id\":\"1_12\",\"source\":\"1\",\"target\":\"12\",\"label\":1.0}},{\"data\":{\"id\":\"1\",\"label\":1}},{\"data\":{\"id\":\"13\",\"label\":13}},{\"data\":{\"id\":\"1_13\",\"source\":\"1\",\"target\":\"13\",\"label\":1.0}},{\"data\":{\"id\":\"1\",\"label\":1}},{\"data\":{\"id\":\"14\",\"label\":14}},{\"data\":{\"id\":\"1_14\",\"source\":\"1\",\"target\":\"14\",\"label\":1.0}},{\"data\":{\"id\":\"1\",\"label\":1}},{\"data\":{\"id\":\"18\",\"label\":18}},{\"data\":{\"id\":\"1_18\",\"source\":\"1\",\"target\":\"18\",\"label\":1.0}},{\"data\":{\"id\":\"1\",\"label\":1}},{\"data\":{\"id\":\"20\",\"label\":20}},{\"data\":{\"id\":\"1_20\",\"source\":\"1\",\"target\":\"20\",\"label\":1.0}},{\"data\":{\"id\":\"1\",\"label\":1}},{\"data\":{\"id\":\"22\",\"label\":22}},{\"data\":{\"id\":\"1_22\",\"source\":\"1\",\"target\":\"22\",\"label\":1.0}},{\"data\":{\"id\":\"1\",\"label\":1}},{\"data\":{\"id\":\"32\",\"label\":32}},{\"data\":{\"id\":\"1_32\",\"source\":\"1\",\"target\":\"32\",\"label\":1.0}},{\"data\":{\"id\":\"2\",\"label\":2}},{\"data\":{\"id\":\"3\",\"label\":3}},{\"data\":{\"id\":\"2_3\",\"source\":\"2\",\"target\":\"3\",\"label\":1.0}},{\"data\":{\"id\":\"2\",\"label\":2}},{\"data\":{\"id\":\"4\",\"label\":4}},{\"data\":{\"id\":\"2_4\",\"source\":\"2\",\"target\":\"4\",\"label\":1.0}},{\"data\":{\"id\":\"2\",\"label\":2}},{\"data\":{\"id\":\"8\",\"label\":8}},{\"data\":{\"id\":\"2_8\",\"source\":\"2\",\"target\":\"8\",\"label\":1.0}},{\"data\":{\"id\":\"2\",\"label\":2}},{\"data\":{\"id\":\"14\",\"label\":14}},{\"data\":{\"id\":\"2_14\",\"source\":\"2\",\"target\":\"14\",\"label\":1.0}},{\"data\":{\"id\":\"2\",\"label\":2}},{\"data\":{\"id\":\"18\",\"label\":18}},{\"data\":{\"id\":\"2_18\",\"source\":\"2\",\"target\":\"18\",\"label\":1.0}},{\"data\":{\"id\":\"2\",\"label\":2}},{\"data\":{\"id\":\"20\",\"label\":20}},{\"data\":{\"id\":\"2_20\",\"source\":\"2\",\"target\":\"20\",\"label\":1.0}},{\"data\":{\"id\":\"2\",\"label\":2}},{\"data\":{\"id\":\"22\",\"label\":22}},{\"data\":{\"id\":\"2_22\",\"source\":\"2\",\"target\":\"22\",\"label\":1.0}},{\"data\":{\"id\":\"2\",\"label\":2}},{\"data\":{\"id\":\"31\",\"label\":31}},{\"data\":{\"id\":\"2_31\",\"source\":\"2\",\"target\":\"31\",\"label\":1.0}},{\"data\":{\"id\":\"3\",\"label\":3}},{\"data\":{\"id\":\"4\",\"label\":4}},{\"data\":{\"id\":\"3_4\",\"source\":\"3\",\"target\":\"4\",\"label\":1.0}},{\"data\":{\"id\":\"3\",\"label\":3}},{\"data\":{\"id\":\"8\",\"label\":8}},{\"data\":{\"id\":\"3_8\",\"source\":\"3\",\"target\":\"8\",\"label\":1.0}},{\"data\":{\"id\":\"3\",\"label\":3}},{\"data\":{\"id\":\"9\",\"label\":9}},{\"data\":{\"id\":\"3_9\",\"source\":\"3\",\"target\":\"9\",\"label\":1.0}},{\"data\":{\"id\":\"3\",\"label\":3}},{\"data\":{\"id\":\"10\",\"label\":10}},{\"data\":{\"id\":\"3_10\",\"source\":\"3\",\"target\":\"10\",\"label\":1.0}},{\"data\":{\"id\":\"3\",\"label\":3}},{\"data\":{\"id\":\"14\",\"label\":14}},{\"data\":{\"id\":\"3_14\",\"source\":\"3\",\"target\":\"14\",\"label\":1.0}},{\"data\":{\"id\":\"3\",\"label\":3}},{\"data\":{\"id\":\"28\",\"label\":28}},{\"data\":{\"id\":\"3_28\",\"source\":\"3\",\"target\":\"28\",\"label\":1.0}},{\"data\":{\"id\":\"3\",\"label\":3}},{\"data\":{\"id\":\"29\",\"label\":29}},{\"data\":{\"id\":\"3_29\",\"source\":\"3\",\"target\":\"29\",\"label\":1.0}},{\"data\":{\"id\":\"3\",\"label\":3}},{\"data\":{\"id\":\"33\",\"label\":33}},{\"data\":{\"id\":\"3_33\",\"source\":\"3\",\"target\":\"33\",\"label\":1.0}},{\"data\":{\"id\":\"4\",\"label\":4}},{\"data\":{\"id\":\"8\",\"label\":8}},{\"data\":{\"id\":\"4_8\",\"source\":\"4\",\"target\":\"8\",\"label\":1.0}},{\"data\":{\"id\":\"4\",\"label\":4}},{\"data\":{\"id\":\"13\",\"label\":13}},{\"data\":{\"id\":\"4_13\",\"source\":\"4\",\"target\":\"13\",\"label\":1.0}},{\"data\":{\"id\":\"4\",\"label\":4}},{\"data\":{\"id\":\"14\",\"label\":14}},{\"data\":{\"id\":\"4_14\",\"source\":\"4\",\"target\":\"14\",\"label\":1.0}},{\"data\":{\"id\":\"5\",\"label\":5}},{\"data\":{\"id\":\"7\",\"label\":7}},{\"data\":{\"id\":\"5_7\",\"source\":\"5\",\"target\":\"7\",\"label\":1.0}},{\"data\":{\"id\":\"5\",\"label\":5}},{\"data\":{\"id\":\"11\",\"label\":11}},{\"data\":{\"id\":\"5_11\",\"source\":\"5\",\"target\":\"11\",\"label\":1.0}},{\"data\":{\"id\":\"6\",\"label\":6}},{\"data\":{\"id\":\"7\",\"label\":7}},{\"data\":{\"id\":\"6_7\",\"source\":\"6\",\"target\":\"7\",\"label\":1.0}},{\"data\":{\"id\":\"6\",\"label\":6}},{\"data\":{\"id\":\"11\",\"label\":11}},{\"data\":{\"id\":\"6_11\",\"source\":\"6\",\"target\":\"11\",\"label\":1.0}},{\"data\":{\"id\":\"6\",\"label\":6}},{\"data\":{\"id\":\"17\",\"label\":17}},{\"data\":{\"id\":\"6_17\",\"source\":\"6\",\"target\":\"17\",\"label\":1.0}},{\"data\":{\"id\":\"7\",\"label\":7}},{\"data\":{\"id\":\"17\",\"label\":17}},{\"data\":{\"id\":\"7_17\",\"source\":\"7\",\"target\":\"17\",\"label\":1.0}},{\"data\":{\"id\":\"9\",\"label\":9}},{\"data\":{\"id\":\"31\",\"label\":31}},{\"data\":{\"id\":\"9_31\",\"source\":\"9\",\"target\":\"31\",\"label\":1.0}},{\"data\":{\"id\":\"9\",\"label\":9}},{\"data\":{\"id\":\"33\",\"label\":33}},{\"data\":{\"id\":\"9_33\",\"source\":\"9\",\"target\":\"33\",\"label\":1.0}},{\"data\":{\"id\":\"9\",\"label\":9}},{\"data\":{\"id\":\"34\",\"label\":34}},{\"data\":{\"id\":\"9_34\",\"source\":\"9\",\"target\":\"34\",\"label\":1.0}},{\"data\":{\"id\":\"10\",\"label\":10}},{\"data\":{\"id\":\"34\",\"label\":34}},{\"data\":{\"id\":\"10_34\",\"source\":\"10\",\"target\":\"34\",\"label\":1.0}},{\"data\":{\"id\":\"14\",\"label\":14}},{\"data\":{\"id\":\"34\",\"label\":34}},{\"data\":{\"id\":\"14_34\",\"source\":\"14\",\"target\":\"34\",\"label\":1.0}},{\"data\":{\"id\":\"15\",\"label\":15}},{\"data\":{\"id\":\"34\",\"label\":34}},{\"data\":{\"id\":\"15_34\",\"source\":\"15\",\"target\":\"34\",\"label\":1.0}},{\"data\":{\"id\":\"16\",\"label\":16}},{\"data\":{\"id\":\"34\",\"label\":34}},{\"data\":{\"id\":\"16_34\",\"source\":\"16\",\"target\":\"34\",\"label\":1.0}},{\"data\":{\"id\":\"19\",\"label\":19}},{\"data\":{\"id\":\"34\",\"label\":34}},{\"data\":{\"id\":\"19_34\",\"source\":\"19\",\"target\":\"34\",\"label\":1.0}},{\"data\":{\"id\":\"20\",\"label\":20}},{\"data\":{\"id\":\"34\",\"label\":34}},{\"data\":{\"id\":\"20_34\",\"source\":\"20\",\"target\":\"34\",\"label\":1.0}},{\"data\":{\"id\":\"21\",\"label\":21}},{\"data\":{\"id\":\"34\",\"label\":34}},{\"data\":{\"id\":\"21_34\",\"source\":\"21\",\"target\":\"34\",\"label\":1.0}},{\"data\":{\"id\":\"23\",\"label\":23}},{\"data\":{\"id\":\"34\",\"label\":34}},{\"data\":{\"id\":\"23_34\",\"source\":\"23\",\"target\":\"34\",\"label\":1.0}},{\"data\":{\"id\":\"24\",\"label\":24}},{\"data\":{\"id\":\"26\",\"label\":26}},{\"data\":{\"id\":\"24_26\",\"source\":\"24\",\"target\":\"26\",\"label\":1.0}},{\"data\":{\"id\":\"24\",\"label\":24}},{\"data\":{\"id\":\"28\",\"label\":28}},{\"data\":{\"id\":\"24_28\",\"source\":\"24\",\"target\":\"28\",\"label\":1.0}},{\"data\":{\"id\":\"24\",\"label\":24}},{\"data\":{\"id\":\"30\",\"label\":30}},{\"data\":{\"id\":\"24_30\",\"source\":\"24\",\"target\":\"30\",\"label\":1.0}},{\"data\":{\"id\":\"24\",\"label\":24}},{\"data\":{\"id\":\"33\",\"label\":33}},{\"data\":{\"id\":\"24_33\",\"source\":\"24\",\"target\":\"33\",\"label\":1.0}},{\"data\":{\"id\":\"24\",\"label\":24}},{\"data\":{\"id\":\"34\",\"label\":34}},{\"data\":{\"id\":\"24_34\",\"source\":\"24\",\"target\":\"34\",\"label\":1.0}},{\"data\":{\"id\":\"25\",\"label\":25}},{\"data\":{\"id\":\"28\",\"label\":28}},{\"data\":{\"id\":\"25_28\",\"source\":\"25\",\"target\":\"28\",\"label\":1.0}},{\"data\":{\"id\":\"25\",\"label\":25}},{\"data\":{\"id\":\"32\",\"label\":32}},{\"data\":{\"id\":\"25_32\",\"source\":\"25\",\"target\":\"32\",\"label\":1.0}},{\"data\":{\"id\":\"26\",\"label\":26}},{\"data\":{\"id\":\"25\",\"label\":25}},{\"data\":{\"id\":\"26_25\",\"source\":\"26\",\"target\":\"25\",\"label\":1.0}},{\"data\":{\"id\":\"26\",\"label\":26}},{\"data\":{\"id\":\"32\",\"label\":32}},{\"data\":{\"id\":\"26_32\",\"source\":\"26\",\"target\":\"32\",\"label\":1.0}},{\"data\":{\"id\":\"27\",\"label\":27}},{\"data\":{\"id\":\"34\",\"label\":34}},{\"data\":{\"id\":\"27_34\",\"source\":\"27\",\"target\":\"34\",\"label\":1.0}},{\"data\":{\"id\":\"28\",\"label\":28}},{\"data\":{\"id\":\"34\",\"label\":34}},{\"data\":{\"id\":\"28_34\",\"source\":\"28\",\"target\":\"34\",\"label\":1.0}},{\"data\":{\"id\":\"29\",\"label\":29}},{\"data\":{\"id\":\"32\",\"label\":32}},{\"data\":{\"id\":\"29_32\",\"source\":\"29\",\"target\":\"32\",\"label\":1.0}},{\"data\":{\"id\":\"29\",\"label\":29}},{\"data\":{\"id\":\"34\",\"label\":34}},{\"data\":{\"id\":\"29_34\",\"source\":\"29\",\"target\":\"34\",\"label\":1.0}},{\"data\":{\"id\":\"30\",\"label\":30}},{\"data\":{\"id\":\"27\",\"label\":27}},{\"data\":{\"id\":\"30_27\",\"source\":\"30\",\"target\":\"27\",\"label\":1.0}},{\"data\":{\"id\":\"30\",\"label\":30}},{\"data\":{\"id\":\"33\",\"label\":33}},{\"data\":{\"id\":\"30_33\",\"source\":\"30\",\"target\":\"33\",\"label\":1.0}},{\"data\":{\"id\":\"30\",\"label\":30}},{\"data\":{\"id\":\"34\",\"label\":34}},{\"data\":{\"id\":\"30_34\",\"source\":\"30\",\"target\":\"34\",\"label\":1.0}},{\"data\":{\"id\":\"31\",\"label\":31}},{\"data\":{\"id\":\"33\",\"label\":33}},{\"data\":{\"id\":\"31_33\",\"source\":\"31\",\"target\":\"33\",\"label\":1.0}},{\"data\":{\"id\":\"31\",\"label\":31}},{\"data\":{\"id\":\"34\",\"label\":34}},{\"data\":{\"id\":\"31_34\",\"source\":\"31\",\"target\":\"34\",\"label\":1.0}},{\"data\":{\"id\":\"32\",\"label\":32}},{\"data\":{\"id\":\"33\",\"label\":33}},{\"data\":{\"id\":\"32_33\",\"source\":\"32\",\"target\":\"33\",\"label\":1.0}},{\"data\":{\"id\":\"32\",\"label\":32}},{\"data\":{\"id\":\"34\",\"label\":34}},{\"data\":{\"id\":\"32_34\",\"source\":\"32\",\"target\":\"34\",\"label\":1.0}},{\"data\":{\"id\":\"33\",\"label\":33}},{\"data\":{\"id\":\"15\",\"label\":15}},{\"data\":{\"id\":\"33_15\",\"source\":\"33\",\"target\":\"15\",\"label\":1.0}},{\"data\":{\"id\":\"33\",\"label\":33}},{\"data\":{\"id\":\"16\",\"label\":16}},{\"data\":{\"id\":\"33_16\",\"source\":\"33\",\"target\":\"16\",\"label\":1.0}},{\"data\":{\"id\":\"33\",\"label\":33}},{\"data\":{\"id\":\"19\",\"label\":19}},{\"data\":{\"id\":\"33_19\",\"source\":\"33\",\"target\":\"19\",\"label\":1.0}},{\"data\":{\"id\":\"33\",\"label\":33}},{\"data\":{\"id\":\"21\",\"label\":21}},{\"data\":{\"id\":\"33_21\",\"source\":\"33\",\"target\":\"21\",\"label\":1.0}},{\"data\":{\"id\":\"33\",\"label\":33}},{\"data\":{\"id\":\"23\",\"label\":23}},{\"data\":{\"id\":\"33_23\",\"source\":\"33\",\"target\":\"23\",\"label\":1.0}},{\"data\":{\"id\":\"33\",\"label\":33}},{\"data\":{\"id\":\"34\",\"label\":34}},{\"data\":{\"id\":\"33_34\",\"source\":\"33\",\"target\":\"34\",\"label\":1.0}}],\"style\":[{\"selector\":\"node\",\"style\":{\"content\":\"data(label)\",\"color\":\"#A00975\"}}],\"layout\":{\"name\":\"breadthfirst\"},\"zoom\":{\"level\":null,\"zoomingEnabled\":false}}",
"",
"    var cy = cytoscape( graphdata );",
"",
"    cy.userZoomingEnabled( false );",
"",
"    \u003c/script\u003e"]
        },
           "execution_count": 13,
           "metadata": {},
           "output_type": "execute_result"
          }],
           "source": ["open Cytoscape.NET\n",
"let vizGraph =\n",
"    CyGraph.initEmpty ()\n",
"    |\u003e CyGraph.withElements [\n",
"            for (sk,s,tk,t,el) in (AdjGraph.toSeq karateGraphAdj) do\n",
"                let sk, tk = (string sk), (string tk)\n",
"                yield Elements.node sk [ CyParam.label s ]\n",
"                yield Elements.node tk [ CyParam.label t ]\n",
"                yield Elements.edge  (sprintf \"%s_%s\" sk tk) sk tk [ CyParam.label el ]\n",
"        ]\n",
"    |\u003e CyGraph.withStyle \"node\"     \n",
"        [\n",
"            CyParam.content =. CyParam.label\n",
"            CyParam.color \"#A00975\"\n",
"        ]\n",
"    |\u003e CyGraph.withLayout(Cytoscape.NET.Layout.initBreadthfirst(id))\n"]
          }],
            "metadata": {
            "kernelspec": {"display_name": ".NET (F#)", "language": "F#", "name": ".net-fsharp"},
            "langauge_info": {
        "file_extension": ".fs",
        "mimetype": "text/x-fsharp",
        "name": "C#",
        "pygments_lexer": "fsharp",
        "version": "4.5"
        }
        },
            "nbformat": 4,
            "nbformat_minor": 1
        }
        

