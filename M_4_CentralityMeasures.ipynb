
        {
            "cells": [
          {
           "cell_type": "markdown",
           "metadata": {},
           
           "source": []
          }
,
          {
           "cell_type": "code",
           "metadata": {},
            "execution_count": null, "outputs": [],
           "source": ["#r \"nuget: Graphoscope, 0.3.0\"\n"]
          }
,
          {
           "cell_type": "markdown",
           "metadata": {},
           
           "source": ["# Intoduction to GraphCentrality using FGraph\n",
"\n",
"Graph centrality is a concept used in network analysis to identify and measure the relative importance or significance of nodes within a graph.\n",
"It helps us understand which nodes play a central role in the network, indicating their influence, importance, or prominence.\n",
"Centrality measures can be applied to various types of networks, including social networks, transportation networks, communication networks, and more.\n",
"\n",
"## Creating a graph by reading a complete graph representation as one.\n",
"\n",
"Step 1 is the creation of a graph example where we can visualise the graph centrality.\n",
"We will visualise the graph via Cytopscape\n",
"\n"]
          }
,
          {
           "cell_type": "code",
           "metadata": {},
            "execution_count": 3, "outputs": [
          {
           "data": {
            "text/html": ["\u003cdiv id=\"e7cf5168c4c\" style=\"width:600px; height:600px\"\u003e\u003c!-- Cytoscape graph will be drawn inside this DIV --\u003e\u003c/div\u003e\u003cscript type=\"text/javascript\"\u003e",
"",
"    var graphdata = {\"container\":document.getElementById(\u0027e7cf5168c4c\u0027),\"elements\":[{\"data\":{\"id\":\"1\",\"label\":\"Node: 1\"}},{\"data\":{\"id\":\"2\",\"label\":\"Node: 2\"}},{\"data\":{\"id\":\"1_2\",\"source\":\"1\",\"target\":\"2\"}},{\"data\":{\"id\":\"1\",\"label\":\"Node: 1\"}},{\"data\":{\"id\":\"4\",\"label\":\"Node: 4\"}},{\"data\":{\"id\":\"1_4\",\"source\":\"1\",\"target\":\"4\"}},{\"data\":{\"id\":\"1\",\"label\":\"Node: 1\"}},{\"data\":{\"id\":\"5\",\"label\":\"Node: 5\"}},{\"data\":{\"id\":\"1_5\",\"source\":\"1\",\"target\":\"5\"}},{\"data\":{\"id\":\"1\",\"label\":\"Node: 1\"}},{\"data\":{\"id\":\"6\",\"label\":\"Node: 6\"}},{\"data\":{\"id\":\"1_6\",\"source\":\"1\",\"target\":\"6\"}},{\"data\":{\"id\":\"2\",\"label\":\"Node: 2\"}},{\"data\":{\"id\":\"3\",\"label\":\"Node: 3\"}},{\"data\":{\"id\":\"2_3\",\"source\":\"2\",\"target\":\"3\"}}],\"style\":[{\"selector\":\"node\",\"style\":{\"content\":\"data(label)\",\"color\":\"#A00975\"}},{\"selector\":\"edge\",\"style\":{\"content\":\"data(label)\",\"curve-style\":\"bezier\",\"color\":\"#438AFE\"}}],\"layout\":{\"name\":\"breadthfirst\"},\"zoom\":{\"level\":null,\"zoomingEnabled\":false}}",
"",
"    var cy = cytoscape( graphdata );",
"",
"    cy.userZoomingEnabled( false );",
"",
"    \u003c/script\u003e"]
        },
           "execution_count": 3,
           "metadata": {},
           "output_type": "execute_result"
          }],
           "source": ["open Graphoscope\n",
"open Cytoscape.NET\n",
"open FSharpAux\n",
"\n",
"let centralityEdges =\n",
"    seq{\n",
"        1,1,2,2,1.\n",
"        1,1,4,4,1.\n",
"        1,1,5,5,1.\n",
"        1,1,6,6,1.\n",
"        2,2,3,3,1.\n",
"    }\n",
"\n",
"let centralityGraph = AdjGraph.ofSeq centralityEdges\n",
"\n",
"let renderCyGraph (nodeLabelF:int -\u003e CyParam.CyStyleParam ) =\n",
"\n",
"    CyGraph.initEmpty ()\n",
"    |\u003e CyGraph.withElements [\n",
"            for (sk,s,tk,t,el) in (AdjGraph.toSeq centralityGraph) do\n",
"                let sk, tk = (string sk), (string tk)\n",
"                yield Elements.node sk [ nodeLabelF s ]\n",
"                yield Elements.node tk [ nodeLabelF t ]\n",
"                yield Elements.edge  (sprintf \"%s_%s\" sk tk) sk tk [ ]\n",
"        ]\n",
"    |\u003e CyGraph.withStyle \"node\"\n",
"        [\n",
"            CyParam.content =. CyParam.label\n",
"            CyParam.color \"#A00975\"\n",
"        ]\n",
"    |\u003e CyGraph.withStyle \"edge\"\n",
"        [\n",
"            CyParam.content =. CyParam.label\n",
"            CyParam.Curve.style \"bezier\"\n",
"            CyParam.color \"#438AFE\"\n",
"        ]\n",
"    |\u003e CyGraph.withLayout  (\n",
"        Layout.initBreadthfirst(Layout.LayoutOptions.Generic())\n",
"            )  \n",
"    |\u003e CyGraph.withZoom(CytoscapeModel.Zoom.Init(ZoomingEnabled=false))\n",
"    |\u003e CyGraph.withSize(800, 400)\n",
"    |\u003e Cytoscape.NET.HTML.toGraphHTML() \n",
"\n",
"renderCyGraph (fun x -\u003e CyParam.label $\"Node: {x}\")\n"]
          }
,
          {
           "cell_type": "markdown",
           "metadata": {},
           
           "source": ["## Closeness Centrality\n",
"\n",
"Closeness centrality assesses how quickly a node can reach all other nodes in the network.\n",
"Nodes with high closeness centrality are considered central because they are close to many other nodes in terms of geodesic distance (the shortest path).\n",
"\n"]
          }
,
          {
           "cell_type": "code",
           "metadata": {},
            "execution_count": 4, "outputs": [
          {
           "data": {
            "text/html": ["\u003cdiv id=\"ea9b0b4a9cc\" style=\"width:600px; height:600px\"\u003e\u003c!-- Cytoscape graph will be drawn inside this DIV --\u003e\u003c/div\u003e\u003cscript type=\"text/javascript\"\u003e",
"",
"    var graphdata = {\"container\":document.getElementById(\u0027ea9b0b4a9cc\u0027),\"elements\":[{\"data\":{\"id\":\"1\",\"label\":\"Node: 1;Closeness: 0,167\"}},{\"data\":{\"id\":\"2\",\"label\":\"Node: 2;Closeness: 0,125\"}},{\"data\":{\"id\":\"1_2\",\"source\":\"1\",\"target\":\"2\"}},{\"data\":{\"id\":\"1\",\"label\":\"Node: 1;Closeness: 0,167\"}},{\"data\":{\"id\":\"4\",\"label\":\"Node: 4;Closeness: 0,1\"}},{\"data\":{\"id\":\"1_4\",\"source\":\"1\",\"target\":\"4\"}},{\"data\":{\"id\":\"1\",\"label\":\"Node: 1;Closeness: 0,167\"}},{\"data\":{\"id\":\"5\",\"label\":\"Node: 5;Closeness: 0,1\"}},{\"data\":{\"id\":\"1_5\",\"source\":\"1\",\"target\":\"5\"}},{\"data\":{\"id\":\"1\",\"label\":\"Node: 1;Closeness: 0,167\"}},{\"data\":{\"id\":\"6\",\"label\":\"Node: 6;Closeness: 0,1\"}},{\"data\":{\"id\":\"1_6\",\"source\":\"1\",\"target\":\"6\"}},{\"data\":{\"id\":\"2\",\"label\":\"Node: 2;Closeness: 0,125\"}},{\"data\":{\"id\":\"3\",\"label\":\"Node: 3;Closeness: 0,083\"}},{\"data\":{\"id\":\"2_3\",\"source\":\"2\",\"target\":\"3\"}}],\"style\":[{\"selector\":\"node\",\"style\":{\"content\":\"data(label)\",\"color\":\"#A00975\"}},{\"selector\":\"edge\",\"style\":{\"content\":\"data(label)\",\"curve-style\":\"bezier\",\"color\":\"#438AFE\"}}],\"layout\":{\"name\":\"breadthfirst\"},\"zoom\":{\"level\":null,\"zoomingEnabled\":false}}",
"",
"    var cy = cytoscape( graphdata );",
"",
"    cy.userZoomingEnabled( false );",
"",
"    \u003c/script\u003e"]
        },
           "execution_count": 4,
           "metadata": {},
           "output_type": "execute_result"
          }],
           "source": ["let closenessCentrality =\n",
"    Measures.ClosenessCentrality.ofAdjGraph id centralityGraph\n",
"\n",
"\n",
"renderCyGraph (fun x -\u003e CyParam.label ($\"Node: {x};Closeness: {((closenessCentrality.Item x)|\u003eMath.round 3)}\"))\n"]
          }
,
          {
           "cell_type": "markdown",
           "metadata": {},
           
           "source": ["## Betweenness Centrality\n",
"\n",
"Betweenness centrality measures how often a node lies on the shortest path between pairs of other nodes.\n",
"Nodes with high betweenness centrality act as bridges or intermediaries in the network.\n",
"\n"]
          }
,
          {
           "cell_type": "code",
           "metadata": {},
            "execution_count": 5, "outputs": [
          {
           "data": {
            "text/html": ["\u003cdiv id=\"e946b376601\" style=\"width:600px; height:600px\"\u003e\u003c!-- Cytoscape graph will be drawn inside this DIV --\u003e\u003c/div\u003e\u003cscript type=\"text/javascript\"\u003e",
"",
"    var graphdata = {\"container\":document.getElementById(\u0027e946b376601\u0027),\"elements\":[{\"data\":{\"id\":\"1\",\"label\":\"Node: 1;Betweenness: 0,6\"}},{\"data\":{\"id\":\"2\",\"label\":\"Node: 2;Betweenness: 0,26666666666666666\"}},{\"data\":{\"id\":\"1_2\",\"source\":\"1\",\"target\":\"2\"}},{\"data\":{\"id\":\"1\",\"label\":\"Node: 1;Betweenness: 0,6\"}},{\"data\":{\"id\":\"4\",\"label\":\"Node: 4;Betweenness: 0\"}},{\"data\":{\"id\":\"1_4\",\"source\":\"1\",\"target\":\"4\"}},{\"data\":{\"id\":\"1\",\"label\":\"Node: 1;Betweenness: 0,6\"}},{\"data\":{\"id\":\"5\",\"label\":\"Node: 5;Betweenness: 0\"}},{\"data\":{\"id\":\"1_5\",\"source\":\"1\",\"target\":\"5\"}},{\"data\":{\"id\":\"1\",\"label\":\"Node: 1;Betweenness: 0,6\"}},{\"data\":{\"id\":\"6\",\"label\":\"Node: 6;Betweenness: 0\"}},{\"data\":{\"id\":\"1_6\",\"source\":\"1\",\"target\":\"6\"}},{\"data\":{\"id\":\"2\",\"label\":\"Node: 2;Betweenness: 0,26666666666666666\"}},{\"data\":{\"id\":\"3\",\"label\":\"Node: 3;Betweenness: 0\"}},{\"data\":{\"id\":\"2_3\",\"source\":\"2\",\"target\":\"3\"}}],\"style\":[{\"selector\":\"node\",\"style\":{\"content\":\"data(label)\",\"color\":\"#A00975\"}},{\"selector\":\"edge\",\"style\":{\"content\":\"data(label)\",\"curve-style\":\"bezier\",\"color\":\"#438AFE\"}}],\"layout\":{\"name\":\"breadthfirst\"},\"zoom\":{\"level\":null,\"zoomingEnabled\":false}}",
"",
"    var cy = cytoscape( graphdata );",
"",
"    cy.userZoomingEnabled( false );",
"",
"    \u003c/script\u003e"]
        },
           "execution_count": 5,
           "metadata": {},
           "output_type": "execute_result"
          }],
           "source": ["let betweenness = \n",
"    Measures.BetweennessCentrality.ofAdjGraph id centralityGraph\n",
"\n",
"renderCyGraph (fun x -\u003e CyParam.label ($\"Node: {x};Betweenness: {betweenness.Item x}\"))\n"]
          }
,
          {
           "cell_type": "markdown",
           "metadata": {},
           
           "source": ["## Node Eccentricity\n",
"\n",
"Node eccentricity is a concept used in graph theory and network analysis to measure the centrality or importance of a node within a graph.\n",
"It quantifies how far a node is from the farthest other node in the network in terms of the shortest path length.\n",
"In other words, it represents the maximum distance between a node and any other node in the graph.\n",
"\n"]
          }
,
          {
           "cell_type": "code",
           "metadata": {},
            "execution_count": 6, "outputs": [
          {
           "data": {
            "text/html": ["\u003cdiv id=\"ece46daee71\" style=\"width:600px; height:600px\"\u003e\u003c!-- Cytoscape graph will be drawn inside this DIV --\u003e\u003c/div\u003e\u003cscript type=\"text/javascript\"\u003e",
"",
"    var graphdata = {\"container\":document.getElementById(\u0027ece46daee71\u0027),\"elements\":[{\"data\":{\"id\":\"1\",\"label\":\"Node: 1;Eccentricity: 2\"}},{\"data\":{\"id\":\"2\",\"label\":\"Node: 2;Eccentricity: 2\"}},{\"data\":{\"id\":\"1_2\",\"source\":\"1\",\"target\":\"2\"}},{\"data\":{\"id\":\"1\",\"label\":\"Node: 1;Eccentricity: 2\"}},{\"data\":{\"id\":\"4\",\"label\":\"Node: 4;Eccentricity: 3\"}},{\"data\":{\"id\":\"1_4\",\"source\":\"1\",\"target\":\"4\"}},{\"data\":{\"id\":\"1\",\"label\":\"Node: 1;Eccentricity: 2\"}},{\"data\":{\"id\":\"5\",\"label\":\"Node: 5;Eccentricity: 3\"}},{\"data\":{\"id\":\"1_5\",\"source\":\"1\",\"target\":\"5\"}},{\"data\":{\"id\":\"1\",\"label\":\"Node: 1;Eccentricity: 2\"}},{\"data\":{\"id\":\"6\",\"label\":\"Node: 6;Eccentricity: 3\"}},{\"data\":{\"id\":\"1_6\",\"source\":\"1\",\"target\":\"6\"}},{\"data\":{\"id\":\"2\",\"label\":\"Node: 2;Eccentricity: 2\"}},{\"data\":{\"id\":\"3\",\"label\":\"Node: 3;Eccentricity: 3\"}},{\"data\":{\"id\":\"2_3\",\"source\":\"2\",\"target\":\"3\"}}],\"style\":[{\"selector\":\"node\",\"style\":{\"content\":\"data(label)\",\"color\":\"#A00975\"}},{\"selector\":\"edge\",\"style\":{\"content\":\"data(label)\",\"curve-style\":\"bezier\",\"color\":\"#438AFE\"}}],\"layout\":{\"name\":\"breadthfirst\"},\"zoom\":{\"level\":null,\"zoomingEnabled\":false}}",
"",
"    var cy = cytoscape( graphdata );",
"",
"    cy.userZoomingEnabled( false );",
"",
"    \u003c/script\u003e"]
        },
           "execution_count": 6,
           "metadata": {},
           "output_type": "execute_result"
          }],
           "source": ["let eccentricity (node:\u0027NodeKey) =\n",
"    Measures.Eccentricity.ofAdjGraphNode id centralityGraph node\n",
"\n",
"renderCyGraph (fun x -\u003e CyParam.label ($\"Node: {x};Eccentricity: {eccentricity x}\"))\n"]
          }
,
          {
           "cell_type": "markdown",
           "metadata": {},
           
           "source": ["## Distances\n",
"\n",
"Another important metric to take into account involves statistics related to all the shortest paths within a graph.\n",
"These statistics encompass the Diameter (which represents the longest among the shortest paths), the Radius (representing the shortest of the shortest paths), and the average path length.\n",
"As these metrics rely on information from all the shortest paths within a graph, they are fundamentally derived from the results of the Floyd-Warshall algorithm for calculating shortest paths.\n",
"Therefore it is wise to calculate this once and reuse it for the calulations.\n",
"\n"]
          }
,
          {
           "cell_type": "code",
           "metadata": {},
            "execution_count": 7, "outputs": [
          {
           "data": {
            "text/plain": ["\"The given graph has a diameter of 3 and a radius of 2.\""]
        },
           "execution_count": 7,
           "metadata": {},
           "output_type": "execute_result"
          }],
           "source": ["let diameter =\n",
"    Measures.Diameter.ofAdjGraph id centralityGraph\n",
"\n",
"let radius =\n",
"    Measures.Radius.ofAdjGraph id  centralityGraph\n"]
          }],
            "metadata": {
            "kernelspec": {"display_name": ".NET (F#)", "language": "F#", "name": ".net-fsharp"},
            "langauge_info": {
        "file_extension": ".fs",
        "mimetype": "text/x-fsharp",
        "name": "C#",
        "pygments_lexer": "fsharp",
        "version": "4.5"
        }
        },
            "nbformat": 4,
            "nbformat_minor": 1
        }
        

